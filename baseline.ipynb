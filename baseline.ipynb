{
 "cells": [
  {
   "cell_type": "code",
   "execution_count": 42,
   "id": "e0ddb399-18f4-4051-86c0-39f1c623eef5",
   "metadata": {
    "execution": {
     "iopub.execute_input": "2024-02-15T11:34:39.109032Z",
     "iopub.status.busy": "2024-02-15T11:34:39.108624Z",
     "iopub.status.idle": "2024-02-15T11:34:39.955360Z",
     "shell.execute_reply": "2024-02-15T11:34:39.954584Z",
     "shell.execute_reply.started": "2024-02-15T11:34:39.109007Z"
    },
    "id": "e0ddb399-18f4-4051-86c0-39f1c623eef5",
    "tags": [],
    "ExecuteTime": {
     "end_time": "2024-03-11T09:25:39.753045Z",
     "start_time": "2024-03-11T09:25:39.752124Z"
    }
   },
   "outputs": [],
   "source": [
    "import numpy as np\n",
    "import pandas as pd\n",
    "from sklearn.metrics import roc_auc_score\n",
    "from sklearn.model_selection import train_test_split\n",
    "from catboost import CatBoostClassifier"
   ]
  },
  {
   "cell_type": "code",
   "outputs": [],
   "source": [
    "train_df = pd.read_parquet(\"train_data.pqt\")\n",
    "test_df = pd.read_parquet(\"test_data.pqt\")\n"
   ],
   "metadata": {
    "collapsed": false,
    "ExecuteTime": {
     "end_time": "2024-03-11T09:25:41.644641Z",
     "start_time": "2024-03-11T09:25:40.418854Z"
    }
   },
   "id": "94744cff359081e3",
   "execution_count": 43
  },
  {
   "cell_type": "code",
   "outputs": [],
   "source": [
    "# y_train.value_counts().plot(kind='bar')"
   ],
   "metadata": {
    "collapsed": false
   },
   "id": "d6b97b6953afeba8"
  },
  {
   "cell_type": "markdown",
   "source": [
    "#### target class - \"end_cluster\" (df[-1])"
   ],
   "metadata": {
    "collapsed": false
   },
   "id": "7263fc70e94b2566"
  },
  {
   "cell_type": "code",
   "outputs": [],
   "source": [
    "cat_cols = [\n",
    "    \"channel_code\", \"city\", \"city_type\",\n",
    "    \"okved\", \"segment\", \"start_cluster\",\n",
    "    \"index_city_code\", \"ogrn_month\", \"ogrn_year\",\n",
    "]\n",
    "\n",
    "cat_cols_num = []"
   ],
   "metadata": {
    "collapsed": false,
    "ExecuteTime": {
     "end_time": "2024-03-11T09:25:42.676704Z",
     "start_time": "2024-03-11T09:25:42.670674Z"
    }
   },
   "id": "72a5213b22d6caaf",
   "execution_count": 44
  },
  {
   "cell_type": "code",
   "outputs": [
    {
     "name": "stdout",
     "output_type": "stream",
     "text": [
      "id --- 0\n",
      "date --- 0\n",
      "balance_amt_avg --- 29483\n",
      "balance_amt_max --- 29483\n",
      "balance_amt_min --- 29483\n",
      "balance_amt_day_avg --- 29483\n",
      "channel_code --- 20028\n",
      "city --- 60612\n",
      "city_type --- 60992\n",
      "index_city_code --- 156461\n",
      "ogrn_days_end_month --- 14278\n",
      "ogrn_days_end_quarter --- 14278\n",
      "ogrn_month --- 14278\n",
      "ogrn_year --- 14278\n",
      "ft_registration_date --- 14838\n",
      "max_founderpres --- 161192\n",
      "min_founderpres --- 161192\n",
      "ogrn_exist_months --- 14278\n",
      "okved --- 14479\n",
      "segment --- 14020\n",
      "sum_of_paym_2m --- 73461\n",
      "sum_of_paym_6m --- 73461\n",
      "sum_of_paym_1y --- 73461\n",
      "sum_a_oper_1m --- 0\n",
      "cnt_a_oper_1m --- 95210\n",
      "sum_b_oper_1m --- 0\n",
      "cnt_b_oper_1m --- 95210\n",
      "sum_c_oper_1m --- 0\n",
      "cnt_c_oper_1m --- 95210\n",
      "sum_deb_d_oper_1m --- 0\n",
      "cnt_deb_d_oper_1m --- 95210\n",
      "sum_cred_d_oper_1m --- 0\n",
      "cnt_cred_d_oper_1m --- 95210\n",
      "sum_deb_e_oper_1m --- 0\n",
      "cnt_deb_e_oper_1m --- 95210\n",
      "cnt_days_deb_e_oper_1m --- 95210\n",
      "sum_cred_e_oper_1m --- 0\n",
      "cnt_cred_e_oper_1m --- 95210\n",
      "cnt_days_cred_e_oper_1m --- 95210\n",
      "sum_deb_f_oper_1m --- 0\n",
      "cnt_deb_f_oper_1m --- 95210\n",
      "cnt_days_deb_f_oper_1m --- 95210\n",
      "sum_cred_f_oper_1m --- 0\n",
      "cnt_cred_f_oper_1m --- 95210\n",
      "cnt_days_cred_f_oper_1m --- 95210\n",
      "sum_deb_g_oper_1m --- 0\n",
      "cnt_deb_g_oper_1m --- 95210\n",
      "cnt_days_deb_g_oper_1m --- 95210\n",
      "sum_cred_g_oper_1m --- 0\n",
      "cnt_cred_g_oper_1m --- 95210\n",
      "cnt_days_cred_g_oper_1m --- 95210\n",
      "sum_deb_h_oper_1m --- 0\n",
      "cnt_deb_h_oper_1m --- 95210\n",
      "cnt_days_deb_h_oper_1m --- 95210\n",
      "sum_cred_h_oper_1m --- 0\n",
      "cnt_cred_h_oper_1m --- 95210\n",
      "cnt_days_cred_h_oper_1m --- 95210\n",
      "sum_a_oper_3m --- 0\n",
      "cnt_a_oper_3m --- 79567\n",
      "sum_b_oper_3m --- 0\n",
      "cnt_b_oper_3m --- 79567\n",
      "sum_c_oper_3m --- 0\n",
      "cnt_c_oper_3m --- 79567\n",
      "sum_deb_d_oper_3m --- 0\n",
      "cnt_deb_d_oper_3m --- 79567\n",
      "sum_cred_d_oper_3m --- 0\n",
      "cnt_cred_d_oper_3m --- 79567\n",
      "sum_deb_e_oper_3m --- 0\n",
      "cnt_deb_e_oper_3m --- 79567\n",
      "cnt_days_deb_e_oper_3m --- 79567\n",
      "sum_cred_e_oper_3m --- 0\n",
      "cnt_cred_e_oper_3m --- 79567\n",
      "cnt_days_cred_e_oper_3m --- 79567\n",
      "sum_deb_f_oper_3m --- 0\n",
      "cnt_deb_f_oper_3m --- 79567\n",
      "cnt_days_deb_f_oper_3m --- 79567\n",
      "sum_cred_f_oper_3m --- 0\n",
      "cnt_cred_f_oper_3m --- 79567\n",
      "cnt_days_cred_f_oper_3m --- 79567\n",
      "sum_deb_g_oper_3m --- 0\n",
      "cnt_deb_g_oper_3m --- 79567\n",
      "cnt_days_deb_g_oper_3m --- 79567\n",
      "sum_cred_g_oper_3m --- 0\n",
      "cnt_cred_g_oper_3m --- 79567\n",
      "cnt_days_cred_g_oper_3m --- 79567\n",
      "sum_deb_h_oper_3m --- 0\n",
      "cnt_deb_h_oper_3m --- 79567\n",
      "cnt_days_deb_h_oper_3m --- 79567\n",
      "sum_cred_h_oper_3m --- 0\n",
      "cnt_cred_h_oper_3m --- 79567\n",
      "cnt_days_cred_h_oper_3m --- 79567\n",
      "start_cluster --- 100000\n"
     ]
    }
   ],
   "source": [
    "for x,y in zip(test_df.columns, test_df.isna().sum()):\n",
    "    print(x, \"---\", y)"
   ],
   "metadata": {
    "collapsed": false,
    "ExecuteTime": {
     "end_time": "2024-03-11T09:25:43.472721Z",
     "start_time": "2024-03-11T09:25:43.292608Z"
    }
   },
   "id": "7a5965075c936312",
   "execution_count": 45
  },
  {
   "cell_type": "markdown",
   "source": [
    "Создаем выборки для валидации и обучения"
   ],
   "metadata": {
    "collapsed": false
   },
   "id": "dd49796d54a22e8e"
  },
  {
   "cell_type": "code",
   "outputs": [],
   "source": [
    "to_drop_cols = [\n",
    "    \"date\",\n",
    "    'cnt_a_oper_1m', \"cnt_b_oper_1m\", 'cnt_c_oper_1m', 'cnt_deb_d_oper_1m','cnt_cred_d_oper_1m','cnt_deb_e_oper_1m','cnt_days_deb_e_oper_1m','cnt_cred_e_oper_1m','cnt_days_cred_e_oper_1m',\n",
    "    'cnt_deb_f_oper_1m','cnt_days_deb_f_oper_1m','cnt_cred_f_oper_1m','cnt_days_cred_f_oper_1m','cnt_deb_g_oper_1m',\n",
    "    'cnt_days_deb_g_oper_1m','cnt_cred_g_oper_1m','cnt_days_cred_g_oper_1m','cnt_deb_h_oper_1m','cnt_days_deb_h_oper_1m','cnt_cred_h_oper_1m','cnt_days_cred_h_oper_1m',\n",
    "    'cnt_days_cred_h_oper_3m','cnt_cred_h_oper_3m','cnt_days_deb_h_oper_3m','cnt_deb_h_oper_3m','cnt_days_cred_g_oper_3m','cnt_cred_g_oper_3m','cnt_days_deb_g_oper_3m','cnt_deb_g_oper_3m','cnt_days_cred_f_oper_3m','cnt_cred_f_oper_3m','cnt_days_deb_f_oper_3m','cnt_deb_f_oper_3m','cnt_days_cred_e_oper_3m','cnt_cred_e_oper_3m','cnt_days_deb_e_oper_3m','cnt_deb_e_oper_3m','cnt_cred_d_oper_3m','cnt_deb_d_oper_3m','cnt_c_oper_3m','cnt_b_oper_3m','cnt_a_oper_3m',\n",
    "\n",
    "    'sum_of_paym_2m', 'sum_of_paym_6m', 'sum_of_paym_1y',\n",
    "\n",
    "    'balance_amt_max','balance_amt_min','balance_amt_day_avg','index_city_code',\n",
    "\n",
    "    'ogrn_days_end_month', 'ogrn_days_end_quarter','ogrn_month','ogrn_year','max_founderpres','min_founderpres','ogrn_exist_months'\n",
    "]\n",
    "to_drop_cols.append(\"id\")"
   ],
   "metadata": {
    "collapsed": false,
    "ExecuteTime": {
     "end_time": "2024-03-11T09:25:45.284941Z",
     "start_time": "2024-03-11T09:25:45.254274Z"
    }
   },
   "id": "bbc9fbc38661f6a9",
   "execution_count": 46
  },
  {
   "cell_type": "code",
   "outputs": [],
   "source": [
    "raw_X = train_df.drop(to_drop_cols, axis=1)\n",
    "\n",
    "raw_X['balance_amt_avg'] = raw_X['balance_amt_avg'].fillna(raw_X['balance_amt_avg'].mean())\n",
    "raw_X['channel_code'] = raw_X['channel_code'].fillna('channel_code_8')\n",
    "raw_X['city']= raw_X['city'].fillna('city_0')\n",
    "raw_X['city_type']= raw_X['city_type'].fillna('city_type_0')\n",
    "raw_X['ft_registration_date'] = raw_X['ft_registration_date'].fillna(0.407456)\n",
    "raw_X['okved']= raw_X['okved'].fillna('okved_5')\n",
    "raw_X['segment']= raw_X['segment'].fillna('segment_3')\n",
    "\n",
    "y = raw_X[\"end_cluster\"]\n",
    "raw_X = raw_X.drop(['end_cluster'],axis=1)\n",
    "\n",
    "x_train, x_val, y_train, y_val = train_test_split(raw_X, y,\n",
    "                                                  test_size=0.2,\n",
    "                                                  random_state=42)\n"
   ],
   "metadata": {
    "collapsed": false,
    "ExecuteTime": {
     "end_time": "2024-03-11T09:25:47.418965Z",
     "start_time": "2024-03-11T09:25:46.409365Z"
    }
   },
   "id": "6e2b5147c1707a9f",
   "execution_count": 47
  },
  {
   "cell_type": "code",
   "outputs": [
    {
     "data": {
      "text/plain": "[1, 2, 3, 33, 5, 6]"
     },
     "execution_count": 48,
     "metadata": {},
     "output_type": "execute_result"
    }
   ],
   "source": [
    "for i, col in enumerate(cat_cols):\n",
    "    for j, col1 in enumerate(x_train.columns):\n",
    "        if col == col1:\n",
    "            cat_cols_num.append(j)\n",
    "cat_cols_num = list(set(sorted(cat_cols_num)))\n",
    "cat_cols_num"
   ],
   "metadata": {
    "collapsed": false,
    "ExecuteTime": {
     "end_time": "2024-03-11T09:25:48.563060Z",
     "start_time": "2024-03-11T09:25:48.556462Z"
    }
   },
   "id": "e9f08c10b4e9c75e",
   "execution_count": 48
  },
  {
   "cell_type": "code",
   "outputs": [
    {
     "name": "stdout",
     "output_type": "stream",
     "text": [
      "0:\tlearn: 2.0564923\ttest: 2.0538503\tbest: 2.0538503 (0)\ttotal: 12.1s\tremaining: 19m 57s\n",
      "1:\tlearn: 1.8073596\ttest: 1.8033987\tbest: 1.8033987 (1)\ttotal: 23.4s\tremaining: 19m 8s\n",
      "2:\tlearn: 1.6383076\ttest: 1.6346529\tbest: 1.6346529 (2)\ttotal: 35.8s\tremaining: 19m 16s\n",
      "3:\tlearn: 1.5140625\ttest: 1.5109876\tbest: 1.5109876 (3)\ttotal: 49.1s\tremaining: 19m 37s\n",
      "4:\tlearn: 1.4179301\ttest: 1.4153257\tbest: 1.4153257 (4)\ttotal: 1m 1s\tremaining: 19m 28s\n",
      "5:\tlearn: 1.3405576\ttest: 1.3386124\tbest: 1.3386124 (5)\ttotal: 1m 13s\tremaining: 19m 11s\n",
      "6:\tlearn: 1.2781818\ttest: 1.2766300\tbest: 1.2766300 (6)\ttotal: 1m 25s\tremaining: 18m 55s\n",
      "7:\tlearn: 1.2247416\ttest: 1.2237127\tbest: 1.2237127 (7)\ttotal: 1m 37s\tremaining: 18m 40s\n",
      "8:\tlearn: 1.1802122\ttest: 1.1797446\tbest: 1.1797446 (8)\ttotal: 1m 49s\tremaining: 18m 27s\n",
      "9:\tlearn: 1.1423142\ttest: 1.1423652\tbest: 1.1423652 (9)\ttotal: 2m 1s\tremaining: 18m 17s\n",
      "10:\tlearn: 1.1089637\ttest: 1.1097409\tbest: 1.1097409 (10)\ttotal: 2m 13s\tremaining: 18m 4s\n",
      "11:\tlearn: 1.0810818\ttest: 1.0822936\tbest: 1.0822936 (11)\ttotal: 2m 25s\tremaining: 17m 49s\n",
      "12:\tlearn: 1.0559326\ttest: 1.0576943\tbest: 1.0576943 (12)\ttotal: 2m 37s\tremaining: 17m 36s\n",
      "13:\tlearn: 1.0342849\ttest: 1.0365921\tbest: 1.0365921 (13)\ttotal: 2m 49s\tremaining: 17m 21s\n",
      "14:\tlearn: 1.0156264\ttest: 1.0185062\tbest: 1.0185062 (14)\ttotal: 3m 1s\tremaining: 17m 10s\n",
      "15:\tlearn: 0.9988215\ttest: 1.0021369\tbest: 1.0021369 (15)\ttotal: 3m 13s\tremaining: 16m 57s\n",
      "16:\tlearn: 0.9838430\ttest: 0.9875314\tbest: 0.9875314 (16)\ttotal: 3m 26s\tremaining: 16m 45s\n",
      "17:\tlearn: 0.9706242\ttest: 0.9746808\tbest: 0.9746808 (17)\ttotal: 3m 37s\tremaining: 16m 30s\n",
      "18:\tlearn: 0.9588370\ttest: 0.9634286\tbest: 0.9634286 (18)\ttotal: 3m 49s\tremaining: 16m 18s\n",
      "19:\tlearn: 0.9487663\ttest: 0.9536934\tbest: 0.9536934 (19)\ttotal: 4m 1s\tremaining: 16m 6s\n",
      "20:\tlearn: 0.9394741\ttest: 0.9447953\tbest: 0.9447953 (20)\ttotal: 4m 13s\tremaining: 15m 53s\n",
      "21:\tlearn: 0.9311218\ttest: 0.9367829\tbest: 0.9367829 (21)\ttotal: 4m 25s\tremaining: 15m 42s\n",
      "22:\tlearn: 0.9236862\ttest: 0.9298936\tbest: 0.9298936 (22)\ttotal: 4m 37s\tremaining: 15m 30s\n",
      "23:\tlearn: 0.9170994\ttest: 0.9235973\tbest: 0.9235973 (23)\ttotal: 4m 50s\tremaining: 15m 19s\n",
      "24:\tlearn: 0.9109718\ttest: 0.9178981\tbest: 0.9178981 (24)\ttotal: 5m 2s\tremaining: 15m 6s\n",
      "25:\tlearn: 0.9052790\ttest: 0.9128526\tbest: 0.9128526 (25)\ttotal: 5m 14s\tremaining: 14m 54s\n",
      "26:\tlearn: 0.9002268\ttest: 0.9076335\tbest: 0.9076335 (26)\ttotal: 5m 27s\tremaining: 14m 44s\n",
      "27:\tlearn: 0.8956286\ttest: 0.9030101\tbest: 0.9030101 (27)\ttotal: 5m 40s\tremaining: 14m 35s\n",
      "28:\tlearn: 0.8913113\ttest: 0.8987451\tbest: 0.8987451 (28)\ttotal: 5m 53s\tremaining: 14m 26s\n",
      "29:\tlearn: 0.8877138\ttest: 0.8950028\tbest: 0.8950028 (29)\ttotal: 6m 7s\tremaining: 14m 16s\n",
      "30:\tlearn: 0.8847219\ttest: 0.8919136\tbest: 0.8919136 (30)\ttotal: 6m 20s\tremaining: 14m 7s\n",
      "31:\tlearn: 0.8813650\ttest: 0.8887806\tbest: 0.8887806 (31)\ttotal: 6m 34s\tremaining: 13m 57s\n",
      "32:\tlearn: 0.8784206\ttest: 0.8860592\tbest: 0.8860592 (32)\ttotal: 6m 48s\tremaining: 13m 48s\n",
      "33:\tlearn: 0.8760399\ttest: 0.8836836\tbest: 0.8836836 (33)\ttotal: 7m 2s\tremaining: 13m 39s\n",
      "34:\tlearn: 0.8736620\ttest: 0.8814119\tbest: 0.8814119 (34)\ttotal: 7m 15s\tremaining: 13m 28s\n",
      "35:\tlearn: 0.8710406\ttest: 0.8789155\tbest: 0.8789155 (35)\ttotal: 7m 27s\tremaining: 13m 15s\n",
      "36:\tlearn: 0.8686831\ttest: 0.8767302\tbest: 0.8767302 (36)\ttotal: 7m 40s\tremaining: 13m 4s\n",
      "37:\tlearn: 0.8667787\ttest: 0.8749332\tbest: 0.8749332 (37)\ttotal: 7m 52s\tremaining: 12m 51s\n",
      "38:\tlearn: 0.8649473\ttest: 0.8732417\tbest: 0.8732417 (38)\ttotal: 8m 5s\tremaining: 12m 38s\n",
      "39:\tlearn: 0.8629368\ttest: 0.8715180\tbest: 0.8715180 (39)\ttotal: 8m 16s\tremaining: 12m 25s\n",
      "40:\tlearn: 0.8615753\ttest: 0.8702313\tbest: 0.8702313 (40)\ttotal: 8m 30s\tremaining: 12m 14s\n",
      "41:\tlearn: 0.8598892\ttest: 0.8688148\tbest: 0.8688148 (41)\ttotal: 8m 43s\tremaining: 12m 2s\n",
      "42:\tlearn: 0.8579935\ttest: 0.8672025\tbest: 0.8672025 (42)\ttotal: 8m 55s\tremaining: 11m 49s\n",
      "43:\tlearn: 0.8566879\ttest: 0.8661183\tbest: 0.8661183 (43)\ttotal: 9m 8s\tremaining: 11m 38s\n",
      "44:\tlearn: 0.8555484\ttest: 0.8650574\tbest: 0.8650574 (44)\ttotal: 9m 22s\tremaining: 11m 27s\n",
      "45:\tlearn: 0.8543159\ttest: 0.8640376\tbest: 0.8640376 (45)\ttotal: 9m 36s\tremaining: 11m 16s\n",
      "46:\tlearn: 0.8531485\ttest: 0.8631247\tbest: 0.8631247 (46)\ttotal: 9m 48s\tremaining: 11m 3s\n",
      "47:\tlearn: 0.8519796\ttest: 0.8621830\tbest: 0.8621830 (47)\ttotal: 10m 1s\tremaining: 10m 51s\n",
      "48:\tlearn: 0.8509275\ttest: 0.8612581\tbest: 0.8612581 (48)\ttotal: 10m 15s\tremaining: 10m 40s\n",
      "49:\tlearn: 0.8501017\ttest: 0.8604372\tbest: 0.8604372 (49)\ttotal: 10m 30s\tremaining: 10m 30s\n",
      "50:\tlearn: 0.8490377\ttest: 0.8595325\tbest: 0.8595325 (50)\ttotal: 10m 43s\tremaining: 10m 18s\n",
      "51:\tlearn: 0.8477820\ttest: 0.8585032\tbest: 0.8585032 (51)\ttotal: 10m 57s\tremaining: 10m 6s\n",
      "52:\tlearn: 0.8470543\ttest: 0.8579162\tbest: 0.8579162 (52)\ttotal: 11m 10s\tremaining: 9m 54s\n",
      "53:\tlearn: 0.8457107\ttest: 0.8569982\tbest: 0.8569982 (53)\ttotal: 11m 23s\tremaining: 9m 42s\n",
      "54:\tlearn: 0.8448954\ttest: 0.8563400\tbest: 0.8563400 (54)\ttotal: 11m 37s\tremaining: 9m 30s\n",
      "55:\tlearn: 0.8442081\ttest: 0.8557778\tbest: 0.8557778 (55)\ttotal: 11m 51s\tremaining: 9m 18s\n",
      "56:\tlearn: 0.8432196\ttest: 0.8551314\tbest: 0.8551314 (56)\ttotal: 12m 4s\tremaining: 9m 6s\n",
      "57:\tlearn: 0.8422579\ttest: 0.8544508\tbest: 0.8544508 (57)\ttotal: 12m 17s\tremaining: 8m 54s\n",
      "58:\tlearn: 0.8414847\ttest: 0.8537989\tbest: 0.8537989 (58)\ttotal: 12m 32s\tremaining: 8m 42s\n",
      "59:\tlearn: 0.8408122\ttest: 0.8533039\tbest: 0.8533039 (59)\ttotal: 12m 45s\tremaining: 8m 30s\n",
      "60:\tlearn: 0.8399585\ttest: 0.8528063\tbest: 0.8528063 (60)\ttotal: 12m 59s\tremaining: 8m 18s\n",
      "61:\tlearn: 0.8390140\ttest: 0.8521337\tbest: 0.8521337 (61)\ttotal: 13m 12s\tremaining: 8m 5s\n",
      "62:\tlearn: 0.8381675\ttest: 0.8514759\tbest: 0.8514759 (62)\ttotal: 13m 24s\tremaining: 7m 52s\n",
      "63:\tlearn: 0.8374672\ttest: 0.8509659\tbest: 0.8509659 (63)\ttotal: 13m 38s\tremaining: 7m 40s\n",
      "64:\tlearn: 0.8365317\ttest: 0.8503408\tbest: 0.8503408 (64)\ttotal: 13m 50s\tremaining: 7m 27s\n",
      "65:\tlearn: 0.8361361\ttest: 0.8500532\tbest: 0.8500532 (65)\ttotal: 14m 5s\tremaining: 7m 15s\n",
      "66:\tlearn: 0.8354124\ttest: 0.8495664\tbest: 0.8495664 (66)\ttotal: 14m 18s\tremaining: 7m 2s\n",
      "67:\tlearn: 0.8348451\ttest: 0.8491927\tbest: 0.8491927 (67)\ttotal: 14m 31s\tremaining: 6m 50s\n",
      "68:\tlearn: 0.8342929\ttest: 0.8487628\tbest: 0.8487628 (68)\ttotal: 14m 45s\tremaining: 6m 37s\n",
      "69:\tlearn: 0.8333506\ttest: 0.8482127\tbest: 0.8482127 (69)\ttotal: 14m 57s\tremaining: 6m 24s\n",
      "70:\tlearn: 0.8324481\ttest: 0.8476427\tbest: 0.8476427 (70)\ttotal: 15m 10s\tremaining: 6m 11s\n",
      "71:\tlearn: 0.8317309\ttest: 0.8471557\tbest: 0.8471557 (71)\ttotal: 15m 23s\tremaining: 5m 59s\n",
      "72:\tlearn: 0.8309688\ttest: 0.8466248\tbest: 0.8466248 (72)\ttotal: 15m 37s\tremaining: 5m 46s\n",
      "73:\tlearn: 0.8305145\ttest: 0.8463718\tbest: 0.8463718 (73)\ttotal: 15m 51s\tremaining: 5m 34s\n",
      "74:\tlearn: 0.8295052\ttest: 0.8458207\tbest: 0.8458207 (74)\ttotal: 16m 5s\tremaining: 5m 21s\n",
      "75:\tlearn: 0.8286575\ttest: 0.8452844\tbest: 0.8452844 (75)\ttotal: 16m 17s\tremaining: 5m 8s\n",
      "76:\tlearn: 0.8282771\ttest: 0.8450077\tbest: 0.8450077 (76)\ttotal: 16m 32s\tremaining: 4m 56s\n",
      "77:\tlearn: 0.8278205\ttest: 0.8446751\tbest: 0.8446751 (77)\ttotal: 16m 46s\tremaining: 4m 43s\n",
      "78:\tlearn: 0.8268046\ttest: 0.8441535\tbest: 0.8441535 (78)\ttotal: 17m 1s\tremaining: 4m 31s\n",
      "79:\tlearn: 0.8263411\ttest: 0.8438160\tbest: 0.8438160 (79)\ttotal: 17m 14s\tremaining: 4m 18s\n",
      "80:\tlearn: 0.8257437\ttest: 0.8434574\tbest: 0.8434574 (80)\ttotal: 17m 26s\tremaining: 4m 5s\n",
      "81:\tlearn: 0.8252143\ttest: 0.8431415\tbest: 0.8431415 (81)\ttotal: 17m 40s\tremaining: 3m 52s\n",
      "82:\tlearn: 0.8246357\ttest: 0.8428023\tbest: 0.8428023 (82)\ttotal: 17m 53s\tremaining: 3m 39s\n",
      "83:\tlearn: 0.8240345\ttest: 0.8423660\tbest: 0.8423660 (83)\ttotal: 18m 6s\tremaining: 3m 26s\n",
      "84:\tlearn: 0.8235386\ttest: 0.8419946\tbest: 0.8419946 (84)\ttotal: 18m 20s\tremaining: 3m 14s\n",
      "85:\tlearn: 0.8229707\ttest: 0.8416863\tbest: 0.8416863 (85)\ttotal: 18m 34s\tremaining: 3m 1s\n",
      "86:\tlearn: 0.8223482\ttest: 0.8412545\tbest: 0.8412545 (86)\ttotal: 18m 47s\tremaining: 2m 48s\n",
      "87:\tlearn: 0.8214594\ttest: 0.8408034\tbest: 0.8408034 (87)\ttotal: 19m\tremaining: 2m 35s\n",
      "88:\tlearn: 0.8207313\ttest: 0.8403787\tbest: 0.8403787 (88)\ttotal: 19m 14s\tremaining: 2m 22s\n",
      "89:\tlearn: 0.8200114\ttest: 0.8400083\tbest: 0.8400083 (89)\ttotal: 19m 28s\tremaining: 2m 9s\n",
      "90:\tlearn: 0.8194282\ttest: 0.8396509\tbest: 0.8396509 (90)\ttotal: 19m 41s\tremaining: 1m 56s\n",
      "91:\tlearn: 0.8189841\ttest: 0.8393983\tbest: 0.8393983 (91)\ttotal: 19m 55s\tremaining: 1m 43s\n",
      "92:\tlearn: 0.8185541\ttest: 0.8391433\tbest: 0.8391433 (92)\ttotal: 20m 8s\tremaining: 1m 30s\n",
      "93:\tlearn: 0.8181481\ttest: 0.8389095\tbest: 0.8389095 (93)\ttotal: 20m 21s\tremaining: 1m 17s\n",
      "94:\tlearn: 0.8174461\ttest: 0.8385332\tbest: 0.8385332 (94)\ttotal: 20m 34s\tremaining: 1m 4s\n",
      "95:\tlearn: 0.8169001\ttest: 0.8382370\tbest: 0.8382370 (95)\ttotal: 20m 47s\tremaining: 52s\n",
      "96:\tlearn: 0.8165229\ttest: 0.8379795\tbest: 0.8379795 (96)\ttotal: 21m 1s\tremaining: 39s\n",
      "97:\tlearn: 0.8161475\ttest: 0.8377294\tbest: 0.8377294 (97)\ttotal: 21m 15s\tremaining: 26s\n",
      "98:\tlearn: 0.8157070\ttest: 0.8374289\tbest: 0.8374289 (98)\ttotal: 21m 28s\tremaining: 13s\n",
      "99:\tlearn: 0.8151561\ttest: 0.8371445\tbest: 0.8371445 (99)\ttotal: 21m 41s\tremaining: 0us\n",
      "\n",
      "bestTest = 0.8371444639\n",
      "bestIteration = 99\n",
      "proba =  [[7.13479430e-03 8.46583757e-01 1.36140742e-03 ... 8.31315655e-04\n",
      "  1.37486930e-01 9.07882707e-05]\n",
      " [3.43190921e-02 6.17227577e-01 2.34574100e-03 ... 5.05075204e-04\n",
      "  2.72128114e-01 8.15817892e-05]\n",
      " [9.61950329e-02 1.50534394e-02 5.76045424e-03 ... 4.58839287e-03\n",
      "  5.27122797e-02 4.18546665e-04]\n",
      " ...\n",
      " [8.52958643e-03 2.19233683e-02 1.45400783e-02 ... 3.05351038e-03\n",
      "  9.00951519e-01 6.76565982e-05]\n",
      " [3.28500231e-03 2.83431997e-02 1.74334557e-02 ... 4.03927600e-04\n",
      "  9.31532869e-01 5.92313934e-05]\n",
      " [1.04906051e-02 5.98592505e-02 6.35481835e-03 ... 9.23433417e-04\n",
      "  8.98918621e-01 3.64056593e-04]]\n"
     ]
    }
   ],
   "source": [
    "model = CatBoostClassifier(iterations=100,\n",
    "                           depth=10,\n",
    "                           learning_rate=0.1,\n",
    "                            loss_function='MultiClass',\n",
    "                           custom_loss=['AUC'],\n",
    "                           verbose=True,\n",
    "                           score_function='L2',\n",
    "                           # random_state=1337,\n",
    "                           random_seed=1337)\n",
    "# train the model\n",
    "model.fit(x_train, y_train,\n",
    "        cat_features=cat_cols_num,\n",
    "        eval_set=(x_val, y_val),\n",
    "        verbose=True,\n",
    ")\n",
    "\n",
    "# make the prediction using the resulting model\n",
    "# preds_class = model.predict(x_val)\n",
    "preds_proba = model.predict_proba(x_val)\n",
    "# print(\"class = \", preds_class)\n",
    "print(\"proba = \", preds_proba)"
   ],
   "metadata": {
    "collapsed": false,
    "ExecuteTime": {
     "end_time": "2024-03-11T12:23:07.809259Z",
     "start_time": "2024-03-11T12:01:24.811588Z"
    }
   },
   "id": "e3b8ce595515a38e",
   "execution_count": 113
  },
  {
   "cell_type": "markdown",
   "source": [
    "#### Eval"
   ],
   "metadata": {
    "collapsed": false
   },
   "id": "44dd58ccb18de06"
  },
  {
   "cell_type": "markdown",
   "source": [
    "Зададим функцию для взвешенной метрики roc auc"
   ],
   "metadata": {
    "collapsed": false
   },
   "id": "466e7b675e6e48a9"
  },
  {
   "cell_type": "code",
   "outputs": [],
   "source": [
    "def weighted_roc_auc(y_true, y_pred, labels, weights_dict):\n",
    "    unnorm_weights = np.array([weights_dict[label] for label in labels])\n",
    "    weights = unnorm_weights / unnorm_weights.sum()\n",
    "    classes_roc_auc = roc_auc_score(y_true, y_pred, labels=labels,\n",
    "                                    multi_class=\"ovr\", average=None)\n",
    "    return sum(weights * classes_roc_auc)\n"
   ],
   "metadata": {
    "collapsed": false,
    "ExecuteTime": {
     "end_time": "2024-03-11T12:29:06.325325Z",
     "start_time": "2024-03-11T12:29:06.297854Z"
    }
   },
   "id": "96b133467a1b5d66",
   "execution_count": 114
  },
  {
   "cell_type": "code",
   "outputs": [],
   "source": [
    "cluster_weights = pd.read_excel(\"cluster_weights.xlsx\").set_index(\"cluster\")\n",
    "weights_dict = cluster_weights[\"unnorm_weight\"].to_dict()"
   ],
   "metadata": {
    "collapsed": false,
    "ExecuteTime": {
     "end_time": "2024-03-11T12:29:07.269383Z",
     "start_time": "2024-03-11T12:29:07.190043Z"
    }
   },
   "id": "859b7025f033e6e1",
   "execution_count": 115
  },
  {
   "cell_type": "code",
   "outputs": [
    {
     "data": {
      "text/plain": "0.912578043218188"
     },
     "execution_count": 116,
     "metadata": {},
     "output_type": "execute_result"
    }
   ],
   "source": [
    "y_pred_proba = model.predict_proba(x_val)\n",
    "weighted_roc_auc(y_val, y_pred_proba, model.classes_, weights_dict)"
   ],
   "metadata": {
    "collapsed": false,
    "ExecuteTime": {
     "end_time": "2024-03-11T12:29:09.689471Z",
     "start_time": "2024-03-11T12:29:08.017726Z"
    }
   },
   "id": "19966424167a5c77",
   "execution_count": 116
  },
  {
   "cell_type": "markdown",
   "source": [
    "#### Sub"
   ],
   "metadata": {
    "collapsed": false
   },
   "id": "9c0aebfae9d6ff24"
  },
  {
   "cell_type": "code",
   "outputs": [],
   "source": [
    "sample_submission_df = pd.read_csv(\"sample_submission.csv\")\n",
    "\n",
    "test_df[\"start_cluster\"] = train_df[\"start_cluster\"].mode()[0]\n",
    "\n",
    "test_df['balance_amt_avg'] = test_df['balance_amt_avg'].fillna(test_df['balance_amt_avg'].mean())\n",
    "test_df['channel_code'] = test_df['channel_code'].fillna('channel_code_8')\n",
    "test_df['city']= test_df['city'].fillna('city_0')\n",
    "test_df['city_type']= test_df['city_type'].fillna('city_type_0')\n",
    "test_df['ft_registration_date'] = test_df['ft_registration_date'].fillna(0.6)\n",
    "test_df['okved']= test_df['okved'].fillna('okved_5')\n",
    "test_df['segment']= test_df['segment'].fillna('segment_3')\n",
    "\n",
    "last_m_test_df = test_df[test_df[\"date\"] == \"month_6\"]\n",
    "last_m_test_df = last_m_test_df.drop(to_drop_cols, axis=1)"
   ],
   "metadata": {
    "collapsed": false,
    "ExecuteTime": {
     "end_time": "2024-03-11T12:29:12.728240Z",
     "start_time": "2024-03-11T12:29:11.726312Z"
    }
   },
   "id": "8c9698f4de6f64f0",
   "execution_count": 117
  },
  {
   "cell_type": "code",
   "outputs": [],
   "source": [
    "test_pred_proba = model.predict_proba(last_m_test_df)\n",
    "test_pred_proba_df = pd.DataFrame(test_pred_proba, columns=model.classes_)\n",
    "sorted_classes = test_pred_proba_df.columns.to_list()\n",
    "test_pred_proba_df = test_pred_proba_df[sorted_classes]"
   ],
   "metadata": {
    "collapsed": false,
    "ExecuteTime": {
     "end_time": "2024-03-11T12:29:14.130010Z",
     "start_time": "2024-03-11T12:29:13.709622Z"
    }
   },
   "id": "a12b415a84fdeb12",
   "execution_count": 118
  },
  {
   "cell_type": "code",
   "outputs": [],
   "source": [
    "sample_submission_df[sorted_classes] = test_pred_proba_df\n",
    "sample_submission_df.to_csv(\"sub.csv\", index=False)"
   ],
   "metadata": {
    "collapsed": false,
    "ExecuteTime": {
     "end_time": "2024-03-11T12:29:18.578465Z",
     "start_time": "2024-03-11T12:29:15.070932Z"
    }
   },
   "id": "425248c15770ab9d",
   "execution_count": 119
  },
  {
   "cell_type": "code",
   "outputs": [],
   "source": [
    "\n"
   ],
   "metadata": {
    "collapsed": false
   },
   "id": "d3cd1df3508ab8f8"
  }
 ],
 "metadata": {
  "colab": {
   "provenance": []
  },
  "kernelspec": {
   "display_name": "python3",
   "language": "python",
   "name": "python3"
  },
  "language_info": {
   "codemirror_mode": {
    "name": "ipython",
    "version": 3
   },
   "file_extension": ".py",
   "mimetype": "text/x-python",
   "name": "python",
   "nbconvert_exporter": "python",
   "pygments_lexer": "ipython3",
   "version": "3.11.7"
  }
 },
 "nbformat": 4,
 "nbformat_minor": 5
}
