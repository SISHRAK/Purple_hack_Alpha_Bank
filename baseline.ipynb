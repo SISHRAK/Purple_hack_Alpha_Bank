{
 "cells": [
  {
   "cell_type": "code",
   "execution_count": 42,
   "id": "e0ddb399-18f4-4051-86c0-39f1c623eef5",
   "metadata": {
    "execution": {
     "iopub.execute_input": "2024-02-15T11:34:39.109032Z",
     "iopub.status.busy": "2024-02-15T11:34:39.108624Z",
     "iopub.status.idle": "2024-02-15T11:34:39.955360Z",
     "shell.execute_reply": "2024-02-15T11:34:39.954584Z",
     "shell.execute_reply.started": "2024-02-15T11:34:39.109007Z"
    },
    "id": "e0ddb399-18f4-4051-86c0-39f1c623eef5",
    "tags": [],
    "ExecuteTime": {
     "end_time": "2024-03-11T09:25:39.753045Z",
     "start_time": "2024-03-11T09:25:39.752124Z"
    }
   },
   "outputs": [],
   "source": [
    "import numpy as np\n",
    "import pandas as pd\n",
    "from sklearn.metrics import roc_auc_score\n",
    "from sklearn.model_selection import train_test_split\n",
    "from catboost import CatBoostClassifier"
   ]
  },
  {
   "cell_type": "code",
   "outputs": [],
   "source": [
    "train_df = pd.read_parquet(\"train_data.pqt\")\n",
    "test_df = pd.read_parquet(\"test_data.pqt\")"
   ],
   "metadata": {
    "collapsed": false,
    "ExecuteTime": {
     "end_time": "2024-03-11T09:25:41.644641Z",
     "start_time": "2024-03-11T09:25:40.418854Z"
    }
   },
   "id": "94744cff359081e3",
   "execution_count": 43
  },
  {
   "cell_type": "code",
   "outputs": [],
   "source": [
    "# y_train.value_counts().plot(kind='bar')"
   ],
   "metadata": {
    "collapsed": false
   },
   "id": "d6b97b6953afeba8"
  },
  {
   "cell_type": "markdown",
   "source": [
    "#### target class - \"end_cluster\" (df[-1])"
   ],
   "metadata": {
    "collapsed": false
   },
   "id": "7263fc70e94b2566"
  },
  {
   "cell_type": "code",
   "outputs": [],
   "source": [
    "cat_cols = [\n",
    "    \"channel_code\", \"city\", \"city_type\",\n",
    "    \"okved\", \"segment\", \"start_cluster\",\n",
    "    \"index_city_code\", \"ogrn_month\", \"ogrn_year\",\n",
    "]\n",
    "\n",
    "cat_cols_num = []"
   ],
   "metadata": {
    "collapsed": false,
    "ExecuteTime": {
     "end_time": "2024-03-11T09:25:42.676704Z",
     "start_time": "2024-03-11T09:25:42.670674Z"
    }
   },
   "id": "72a5213b22d6caaf",
   "execution_count": 44
  },
  {
   "cell_type": "code",
   "outputs": [
    {
     "name": "stdout",
     "output_type": "stream",
     "text": [
      "id --- 0\n",
      "date --- 0\n",
      "balance_amt_avg --- 29483\n",
      "balance_amt_max --- 29483\n",
      "balance_amt_min --- 29483\n",
      "balance_amt_day_avg --- 29483\n",
      "channel_code --- 20028\n",
      "city --- 60612\n",
      "city_type --- 60992\n",
      "index_city_code --- 156461\n",
      "ogrn_days_end_month --- 14278\n",
      "ogrn_days_end_quarter --- 14278\n",
      "ogrn_month --- 14278\n",
      "ogrn_year --- 14278\n",
      "ft_registration_date --- 14838\n",
      "max_founderpres --- 161192\n",
      "min_founderpres --- 161192\n",
      "ogrn_exist_months --- 14278\n",
      "okved --- 14479\n",
      "segment --- 14020\n",
      "sum_of_paym_2m --- 73461\n",
      "sum_of_paym_6m --- 73461\n",
      "sum_of_paym_1y --- 73461\n",
      "sum_a_oper_1m --- 0\n",
      "cnt_a_oper_1m --- 95210\n",
      "sum_b_oper_1m --- 0\n",
      "cnt_b_oper_1m --- 95210\n",
      "sum_c_oper_1m --- 0\n",
      "cnt_c_oper_1m --- 95210\n",
      "sum_deb_d_oper_1m --- 0\n",
      "cnt_deb_d_oper_1m --- 95210\n",
      "sum_cred_d_oper_1m --- 0\n",
      "cnt_cred_d_oper_1m --- 95210\n",
      "sum_deb_e_oper_1m --- 0\n",
      "cnt_deb_e_oper_1m --- 95210\n",
      "cnt_days_deb_e_oper_1m --- 95210\n",
      "sum_cred_e_oper_1m --- 0\n",
      "cnt_cred_e_oper_1m --- 95210\n",
      "cnt_days_cred_e_oper_1m --- 95210\n",
      "sum_deb_f_oper_1m --- 0\n",
      "cnt_deb_f_oper_1m --- 95210\n",
      "cnt_days_deb_f_oper_1m --- 95210\n",
      "sum_cred_f_oper_1m --- 0\n",
      "cnt_cred_f_oper_1m --- 95210\n",
      "cnt_days_cred_f_oper_1m --- 95210\n",
      "sum_deb_g_oper_1m --- 0\n",
      "cnt_deb_g_oper_1m --- 95210\n",
      "cnt_days_deb_g_oper_1m --- 95210\n",
      "sum_cred_g_oper_1m --- 0\n",
      "cnt_cred_g_oper_1m --- 95210\n",
      "cnt_days_cred_g_oper_1m --- 95210\n",
      "sum_deb_h_oper_1m --- 0\n",
      "cnt_deb_h_oper_1m --- 95210\n",
      "cnt_days_deb_h_oper_1m --- 95210\n",
      "sum_cred_h_oper_1m --- 0\n",
      "cnt_cred_h_oper_1m --- 95210\n",
      "cnt_days_cred_h_oper_1m --- 95210\n",
      "sum_a_oper_3m --- 0\n",
      "cnt_a_oper_3m --- 79567\n",
      "sum_b_oper_3m --- 0\n",
      "cnt_b_oper_3m --- 79567\n",
      "sum_c_oper_3m --- 0\n",
      "cnt_c_oper_3m --- 79567\n",
      "sum_deb_d_oper_3m --- 0\n",
      "cnt_deb_d_oper_3m --- 79567\n",
      "sum_cred_d_oper_3m --- 0\n",
      "cnt_cred_d_oper_3m --- 79567\n",
      "sum_deb_e_oper_3m --- 0\n",
      "cnt_deb_e_oper_3m --- 79567\n",
      "cnt_days_deb_e_oper_3m --- 79567\n",
      "sum_cred_e_oper_3m --- 0\n",
      "cnt_cred_e_oper_3m --- 79567\n",
      "cnt_days_cred_e_oper_3m --- 79567\n",
      "sum_deb_f_oper_3m --- 0\n",
      "cnt_deb_f_oper_3m --- 79567\n",
      "cnt_days_deb_f_oper_3m --- 79567\n",
      "sum_cred_f_oper_3m --- 0\n",
      "cnt_cred_f_oper_3m --- 79567\n",
      "cnt_days_cred_f_oper_3m --- 79567\n",
      "sum_deb_g_oper_3m --- 0\n",
      "cnt_deb_g_oper_3m --- 79567\n",
      "cnt_days_deb_g_oper_3m --- 79567\n",
      "sum_cred_g_oper_3m --- 0\n",
      "cnt_cred_g_oper_3m --- 79567\n",
      "cnt_days_cred_g_oper_3m --- 79567\n",
      "sum_deb_h_oper_3m --- 0\n",
      "cnt_deb_h_oper_3m --- 79567\n",
      "cnt_days_deb_h_oper_3m --- 79567\n",
      "sum_cred_h_oper_3m --- 0\n",
      "cnt_cred_h_oper_3m --- 79567\n",
      "cnt_days_cred_h_oper_3m --- 79567\n",
      "start_cluster --- 100000\n"
     ]
    }
   ],
   "source": [
    "for x,y in zip(test_df.columns, test_df.isna().sum()):\n",
    "    print(x, \"---\", y)"
   ],
   "metadata": {
    "collapsed": false,
    "ExecuteTime": {
     "end_time": "2024-03-11T09:25:43.472721Z",
     "start_time": "2024-03-11T09:25:43.292608Z"
    }
   },
   "id": "7a5965075c936312",
   "execution_count": 45
  },
  {
   "cell_type": "markdown",
   "source": [
    "Создаем выборки для валидации и обучения"
   ],
   "metadata": {
    "collapsed": false
   },
   "id": "dd49796d54a22e8e"
  },
  {
   "cell_type": "code",
   "outputs": [],
   "source": [
    "to_drop_cols = [\n",
    "    \"date\",\n",
    "    'cnt_a_oper_1m', \"cnt_b_oper_1m\", 'cnt_c_oper_1m', 'cnt_deb_d_oper_1m','cnt_cred_d_oper_1m','cnt_deb_e_oper_1m','cnt_days_deb_e_oper_1m','cnt_cred_e_oper_1m','cnt_days_cred_e_oper_1m',\n",
    "    'cnt_deb_f_oper_1m','cnt_days_deb_f_oper_1m','cnt_cred_f_oper_1m','cnt_days_cred_f_oper_1m','cnt_deb_g_oper_1m',\n",
    "    'cnt_days_deb_g_oper_1m','cnt_cred_g_oper_1m','cnt_days_cred_g_oper_1m','cnt_deb_h_oper_1m','cnt_days_deb_h_oper_1m','cnt_cred_h_oper_1m','cnt_days_cred_h_oper_1m',\n",
    "    'cnt_days_cred_h_oper_3m','cnt_cred_h_oper_3m','cnt_days_deb_h_oper_3m','cnt_deb_h_oper_3m','cnt_days_cred_g_oper_3m','cnt_cred_g_oper_3m','cnt_days_deb_g_oper_3m','cnt_deb_g_oper_3m','cnt_days_cred_f_oper_3m','cnt_cred_f_oper_3m','cnt_days_deb_f_oper_3m','cnt_deb_f_oper_3m','cnt_days_cred_e_oper_3m','cnt_cred_e_oper_3m','cnt_days_deb_e_oper_3m','cnt_deb_e_oper_3m','cnt_cred_d_oper_3m','cnt_deb_d_oper_3m','cnt_c_oper_3m','cnt_b_oper_3m','cnt_a_oper_3m',\n",
    "\n",
    "    'sum_of_paym_2m', 'sum_of_paym_6m', 'sum_of_paym_1y',\n",
    "\n",
    "    'balance_amt_max','balance_amt_min','balance_amt_day_avg','index_city_code',\n",
    "\n",
    "    'ogrn_days_end_month', 'ogrn_days_end_quarter','ogrn_month','ogrn_year','max_founderpres','min_founderpres','ogrn_exist_months'\n",
    "]\n",
    "to_drop_cols.append(\"id\")"
   ],
   "metadata": {
    "collapsed": false,
    "ExecuteTime": {
     "end_time": "2024-03-11T09:25:45.284941Z",
     "start_time": "2024-03-11T09:25:45.254274Z"
    }
   },
   "id": "bbc9fbc38661f6a9",
   "execution_count": 46
  },
  {
   "cell_type": "code",
   "outputs": [],
   "source": [
    "raw_X = train_df.drop(to_drop_cols, axis=1)\n",
    "\n",
    "raw_X['balance_amt_avg'] = raw_X['balance_amt_avg'].fillna(raw_X['balance_amt_avg'].mean())\n",
    "raw_X['channel_code'] = raw_X['channel_code'].fillna('channel_code_8')\n",
    "raw_X['city']= raw_X['city'].fillna('city_0')\n",
    "raw_X['city_type']= raw_X['city_type'].fillna('city_type_0')\n",
    "raw_X['ft_registration_date'] = raw_X['ft_registration_date'].fillna(0.407456)\n",
    "raw_X['okved']= raw_X['okved'].fillna('okved_5')\n",
    "raw_X['segment']= raw_X['segment'].fillna('segment_3')\n",
    "\n",
    "y = raw_X[\"end_cluster\"]\n",
    "raw_X = raw_X.drop(['end_cluster'],axis=1)\n",
    "\n",
    "x_train, x_val, y_train, y_val = train_test_split(raw_X, y,\n",
    "                                                  test_size=0.2,\n",
    "                                                  random_state=42)\n"
   ],
   "metadata": {
    "collapsed": false,
    "ExecuteTime": {
     "end_time": "2024-03-11T09:25:47.418965Z",
     "start_time": "2024-03-11T09:25:46.409365Z"
    }
   },
   "id": "6e2b5147c1707a9f",
   "execution_count": 47
  },
  {
   "cell_type": "code",
   "outputs": [
    {
     "data": {
      "text/plain": "[1, 2, 3, 33, 5, 6]"
     },
     "execution_count": 48,
     "metadata": {},
     "output_type": "execute_result"
    }
   ],
   "source": [
    "for i, col in enumerate(cat_cols):\n",
    "    for j, col1 in enumerate(x_train.columns):\n",
    "        if col == col1:\n",
    "            cat_cols_num.append(j)\n",
    "cat_cols_num = list(set(sorted(cat_cols_num)))\n",
    "cat_cols_num"
   ],
   "metadata": {
    "collapsed": false,
    "ExecuteTime": {
     "end_time": "2024-03-11T09:25:48.563060Z",
     "start_time": "2024-03-11T09:25:48.556462Z"
    }
   },
   "id": "e9f08c10b4e9c75e",
   "execution_count": 48
  },
  {
   "cell_type": "code",
   "outputs": [
    {
     "name": "stdout",
     "output_type": "stream",
     "text": [
      "0:\tlearn: 2.0573323\ttest: 2.0558780\tbest: 2.0558780 (0)\ttotal: 24s\tremaining: 3m 36s\n",
      "1:\tlearn: 1.8049050\ttest: 1.8038940\tbest: 1.8038940 (1)\ttotal: 39.1s\tremaining: 2m 36s\n",
      "2:\tlearn: 1.6373751\ttest: 1.6366599\tbest: 1.6366599 (2)\ttotal: 54.4s\tremaining: 2m 6s\n",
      "3:\tlearn: 1.5152033\ttest: 1.5153282\tbest: 1.5153282 (3)\ttotal: 1m 8s\tremaining: 1m 42s\n",
      "4:\tlearn: 1.4187443\ttest: 1.4192474\tbest: 1.4192474 (4)\ttotal: 1m 29s\tremaining: 1m 29s\n",
      "5:\tlearn: 1.3420017\ttest: 1.3431942\tbest: 1.3431942 (5)\ttotal: 1m 50s\tremaining: 1m 13s\n",
      "6:\tlearn: 1.2793425\ttest: 1.2808319\tbest: 1.2808319 (6)\ttotal: 2m 3s\tremaining: 52.9s\n",
      "7:\tlearn: 1.2266828\ttest: 1.2286329\tbest: 1.2286329 (7)\ttotal: 2m 16s\tremaining: 34.2s\n",
      "8:\tlearn: 1.1827268\ttest: 1.1849996\tbest: 1.1849996 (8)\ttotal: 2m 40s\tremaining: 17.8s\n",
      "9:\tlearn: 1.1452482\ttest: 1.1477870\tbest: 1.1477870 (9)\ttotal: 2m 58s\tremaining: 0us\n",
      "\n",
      "bestTest = 1.147787007\n",
      "bestIteration = 9\n",
      "proba =  [[0.0239391  0.55704301 0.01959516 ... 0.01928629 0.14752909 0.01900691]\n",
      " [0.04039517 0.4034758  0.02119138 ... 0.02019384 0.23191935 0.01995589]\n",
      " [0.1051067  0.02499093 0.02488755 ... 0.03191516 0.06047314 0.01954738]\n",
      " ...\n",
      " [0.0285486  0.03634934 0.03009367 ... 0.01987939 0.625002   0.01829529]\n",
      " [0.02590416 0.05127504 0.02889132 ... 0.02022616 0.61211351 0.01948618]\n",
      " [0.03108778 0.10258896 0.02594728 ... 0.01998679 0.56512913 0.01995255]]\n"
     ]
    }
   ],
   "source": [
    "model = CatBoostClassifier(iterations=10,\n",
    "                           depth=10,\n",
    "                           learning_rate=0.1,\n",
    "                            # loss_function='Multiclass',\n",
    "                           custom_metric=['AUC'],\n",
    "                           verbose=True,\n",
    "                           # random_state=1337,\n",
    "                           random_seed=228,\n",
    "                           cat_features=cat_cols_num,\n",
    "                           )\n",
    "# train the model\n",
    "model.fit(x_train, y_train,\n",
    "        cat_features=cat_cols_num,\n",
    "        eval_set=(x_val, y_val),\n",
    "        verbose=True,\n",
    ")\n",
    "\n",
    "# make the prediction using the resulting model\n",
    "# preds_class = model.predict(x_val)\n",
    "preds_proba = model.predict_proba(x_val)\n",
    "# print(\"class = \", preds_class)\n",
    "print(\"proba = \", preds_proba)"
   ],
   "metadata": {
    "collapsed": false,
    "ExecuteTime": {
     "end_time": "2024-03-11T10:41:13.488806Z",
     "start_time": "2024-03-11T10:38:12.363771Z"
    }
   },
   "id": "e3b8ce595515a38e",
   "execution_count": 83
  },
  {
   "cell_type": "markdown",
   "source": [
    "#### Eval"
   ],
   "metadata": {
    "collapsed": false
   },
   "id": "44dd58ccb18de06"
  },
  {
   "cell_type": "markdown",
   "source": [
    "Зададим функцию для взвешенной метрики roc auc"
   ],
   "metadata": {
    "collapsed": false
   },
   "id": "466e7b675e6e48a9"
  },
  {
   "cell_type": "code",
   "outputs": [],
   "source": [
    "def weighted_roc_auc(y_true, y_pred, labels, weights_dict):\n",
    "    unnorm_weights = np.array([weights_dict[label] for label in labels])\n",
    "    weights = unnorm_weights / unnorm_weights.sum()\n",
    "    classes_roc_auc = roc_auc_score(y_true, y_pred, labels=labels,\n",
    "                                    multi_class=\"ovr\", average=None)\n",
    "    return sum(weights * classes_roc_auc)"
   ],
   "metadata": {
    "collapsed": false,
    "ExecuteTime": {
     "end_time": "2024-03-11T10:42:29.034428Z",
     "start_time": "2024-03-11T10:42:29.027175Z"
    }
   },
   "id": "96b133467a1b5d66",
   "execution_count": 84
  },
  {
   "cell_type": "code",
   "outputs": [],
   "source": [
    "cluster_weights = pd.read_excel(\"cluster_weights.xlsx\").set_index(\"cluster\")\n",
    "weights_dict = cluster_weights[\"unnorm_weight\"].to_dict()"
   ],
   "metadata": {
    "collapsed": false,
    "ExecuteTime": {
     "end_time": "2024-03-11T10:42:29.750028Z",
     "start_time": "2024-03-11T10:42:29.687581Z"
    }
   },
   "id": "859b7025f033e6e1",
   "execution_count": 85
  },
  {
   "cell_type": "code",
   "outputs": [
    {
     "data": {
      "text/plain": "0.8621296648108251"
     },
     "execution_count": 86,
     "metadata": {},
     "output_type": "execute_result"
    }
   ],
   "source": [
    "y_pred_proba = model.predict_proba(x_val)\n",
    "weighted_roc_auc(y_val, y_pred_proba, model.classes_, weights_dict)"
   ],
   "metadata": {
    "collapsed": false,
    "ExecuteTime": {
     "end_time": "2024-03-11T10:42:31.652311Z",
     "start_time": "2024-03-11T10:42:30.323605Z"
    }
   },
   "id": "19966424167a5c77",
   "execution_count": 86
  },
  {
   "cell_type": "markdown",
   "source": [
    "#### Sub"
   ],
   "metadata": {
    "collapsed": false
   },
   "id": "9c0aebfae9d6ff24"
  },
  {
   "cell_type": "code",
   "outputs": [],
   "source": [
    "sample_submission_df = pd.read_csv(\"sample_submission.csv\")\n",
    "\n",
    "test_df[\"start_cluster\"] = train_df[\"start_cluster\"].mode()[0]\n",
    "\n",
    "test_df['balance_amt_avg'] = test_df['balance_amt_avg'].fillna(test_df['balance_amt_avg'].mean())\n",
    "test_df['channel_code'] = test_df['channel_code'].fillna('channel_code_8')\n",
    "test_df['city']= test_df['city'].fillna('city_0')\n",
    "test_df['city_type']= test_df['city_type'].fillna('city_type_0')\n",
    "test_df['ft_registration_date'] = test_df['ft_registration_date'].fillna(0.6)\n",
    "test_df['okved']= test_df['okved'].fillna('okved_5')\n",
    "test_df['segment']= test_df['segment'].fillna('segment_3')\n",
    "\n",
    "last_m_test_df = test_df[test_df[\"date\"] == \"month_6\"]\n",
    "last_m_test_df = last_m_test_df.drop(to_drop_cols, axis=1)"
   ],
   "metadata": {
    "collapsed": false,
    "ExecuteTime": {
     "end_time": "2024-03-11T10:42:33.623233Z",
     "start_time": "2024-03-11T10:42:32.947119Z"
    }
   },
   "id": "8c9698f4de6f64f0",
   "execution_count": 87
  },
  {
   "cell_type": "code",
   "outputs": [],
   "source": [
    "test_pred_proba = model.predict_proba(last_m_test_df)\n",
    "test_pred_proba_df = pd.DataFrame(test_pred_proba, columns=model.classes_)\n",
    "sorted_classes = test_pred_proba_df.columns.to_list()\n",
    "test_pred_proba_df = test_pred_proba_df[sorted_classes]"
   ],
   "metadata": {
    "collapsed": false,
    "ExecuteTime": {
     "end_time": "2024-03-11T10:42:34.674751Z",
     "start_time": "2024-03-11T10:42:34.622141Z"
    }
   },
   "id": "a12b415a84fdeb12",
   "execution_count": 88
  },
  {
   "cell_type": "code",
   "outputs": [],
   "source": [
    "sample_submission_df[sorted_classes] = test_pred_proba_df\n",
    "sample_submission_df.to_csv(\"sub.csv\", index=False)"
   ],
   "metadata": {
    "collapsed": false,
    "ExecuteTime": {
     "end_time": "2024-03-11T10:42:38.165506Z",
     "start_time": "2024-03-11T10:42:35.462431Z"
    }
   },
   "id": "425248c15770ab9d",
   "execution_count": 89
  },
  {
   "cell_type": "code",
   "outputs": [],
   "source": [
    "\n"
   ],
   "metadata": {
    "collapsed": false
   },
   "id": "d3cd1df3508ab8f8"
  }
 ],
 "metadata": {
  "colab": {
   "provenance": []
  },
  "kernelspec": {
   "display_name": "python3",
   "language": "python",
   "name": "python3"
  },
  "language_info": {
   "codemirror_mode": {
    "name": "ipython",
    "version": 3
   },
   "file_extension": ".py",
   "mimetype": "text/x-python",
   "name": "python",
   "nbconvert_exporter": "python",
   "pygments_lexer": "ipython3",
   "version": "3.11.7"
  }
 },
 "nbformat": 4,
 "nbformat_minor": 5
}
