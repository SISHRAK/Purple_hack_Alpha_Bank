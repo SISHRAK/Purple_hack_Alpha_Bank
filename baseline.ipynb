{
  "cells": [
    {
      "cell_type": "code",
      "execution_count": 1,
      "id": "e0ddb399-18f4-4051-86c0-39f1c623eef5",
      "metadata": {
        "execution": {
          "iopub.execute_input": "2024-02-15T11:34:39.109032Z",
          "iopub.status.busy": "2024-02-15T11:34:39.108624Z",
          "iopub.status.idle": "2024-02-15T11:34:39.955360Z",
          "shell.execute_reply": "2024-02-15T11:34:39.954584Z",
          "shell.execute_reply.started": "2024-02-15T11:34:39.109007Z"
        },
        "id": "e0ddb399-18f4-4051-86c0-39f1c623eef5",
        "tags": []
      },
      "outputs": [],
      "source": [
        "import numpy as np\n",
        "import pandas as pd\n",
        "from sklearn.metrics import roc_auc_score\n",
        "from sklearn.model_selection import train_test_split\n",
        "from catboost import CatBoostClassifier"
      ]
    },
    {
      "cell_type": "code",
      "execution_count": 2,
      "id": "32c8b1b0-f95e-4cb5-bbc1-c0edb76568c1",
      "metadata": {
        "execution": {
          "iopub.execute_input": "2024-02-15T11:34:44.750723Z",
          "iopub.status.busy": "2024-02-15T11:34:44.750145Z",
          "iopub.status.idle": "2024-02-15T11:34:46.098228Z",
          "shell.execute_reply": "2024-02-15T11:34:46.097494Z",
          "shell.execute_reply.started": "2024-02-15T11:34:44.750694Z"
        },
        "id": "32c8b1b0-f95e-4cb5-bbc1-c0edb76568c1",
        "tags": []
      },
      "outputs": [],
      "source": [
        "train_df = pd.read_parquet(\"data/train_data.pqt\")\n",
        "test_df = pd.read_parquet(\"data/test_data.pqt\")"
      ]
    },
    {
      "cell_type": "code",
      "execution_count": 98,
      "id": "f0d621d0",
      "metadata": {},
      "outputs": [
        {
          "data": {
            "text/plain": [
              "<Axes: xlabel='end_cluster'>"
            ]
          },
          "execution_count": 98,
          "metadata": {},
          "output_type": "execute_result"
        },
        {
          "data": {
            "image/png": "[encoded data removed]",
            "text/plain": [
              "<Figure size 640x480 with 1 Axes>"
            ]
          },
          "metadata": {},
          "output_type": "display_data"
        }
      ],
      "source": [
        "y_train.value_counts().plot(kind='bar')"
      ]
    },
    {
      "cell_type": "markdown",
      "id": "163e6cc6",
      "metadata": {},
      "source": [
        "#### target class - \"end_cluster\" (df[-1])"
      ]
    },
    {
      "cell_type": "code",
      "execution_count": 6,
      "id": "6e2458e8",
      "metadata": {},
      "outputs": [],
      "source": [
        "cat_cols = [\n",
        "    \"channel_code\", \"city\", \"city_type\",\n",
        "    \"okved\", \"segment\", \"start_cluster\",\n",
        "    \"index_city_code\", \"ogrn_month\", \"ogrn_year\",\n",
        "]\n",
        "\n",
        "cat_cols_num = []"
      ]
    },
    {
      "cell_type": "code",
      "execution_count": 7,
      "id": "3daf55c3",
      "metadata": {},
      "outputs": [
        {
          "name": "stdout",
          "output_type": "stream",
          "text": [
            "id --- 0\n",
            "date --- 0\n",
            "balance_amt_avg --- 29483\n",
            "balance_amt_max --- 29483\n",
            "balance_amt_min --- 29483\n",
            "balance_amt_day_avg --- 29483\n",
            "channel_code --- 20028\n",
            "city --- 60612\n",
            "city_type --- 60992\n",
            "index_city_code --- 156461\n",
            "ogrn_days_end_month --- 14278\n",
            "ogrn_days_end_quarter --- 14278\n",
            "ogrn_month --- 14278\n",
            "ogrn_year --- 14278\n",
            "ft_registration_date --- 14838\n",
            "max_founderpres --- 161192\n",
            "min_founderpres --- 161192\n",
            "ogrn_exist_months --- 14278\n",
            "okved --- 14479\n",
            "segment --- 14020\n",
            "sum_of_paym_2m --- 73461\n",
            "sum_of_paym_6m --- 73461\n",
            "sum_of_paym_1y --- 73461\n",
            "sum_a_oper_1m --- 0\n",
            "cnt_a_oper_1m --- 95210\n",
            "sum_b_oper_1m --- 0\n",
            "cnt_b_oper_1m --- 95210\n",
            "sum_c_oper_1m --- 0\n",
            "cnt_c_oper_1m --- 95210\n",
            "sum_deb_d_oper_1m --- 0\n",
            "cnt_deb_d_oper_1m --- 95210\n",
            "sum_cred_d_oper_1m --- 0\n",
            "cnt_cred_d_oper_1m --- 95210\n",
            "sum_deb_e_oper_1m --- 0\n",
            "cnt_deb_e_oper_1m --- 95210\n",
            "cnt_days_deb_e_oper_1m --- 95210\n",
            "sum_cred_e_oper_1m --- 0\n",
            "cnt_cred_e_oper_1m --- 95210\n",
            "cnt_days_cred_e_oper_1m --- 95210\n",
            "sum_deb_f_oper_1m --- 0\n",
            "cnt_deb_f_oper_1m --- 95210\n",
            "cnt_days_deb_f_oper_1m --- 95210\n",
            "sum_cred_f_oper_1m --- 0\n",
            "cnt_cred_f_oper_1m --- 95210\n",
            "cnt_days_cred_f_oper_1m --- 95210\n",
            "sum_deb_g_oper_1m --- 0\n",
            "cnt_deb_g_oper_1m --- 95210\n",
            "cnt_days_deb_g_oper_1m --- 95210\n",
            "sum_cred_g_oper_1m --- 0\n",
            "cnt_cred_g_oper_1m --- 95210\n",
            "cnt_days_cred_g_oper_1m --- 95210\n",
            "sum_deb_h_oper_1m --- 0\n",
            "cnt_deb_h_oper_1m --- 95210\n",
            "cnt_days_deb_h_oper_1m --- 95210\n",
            "sum_cred_h_oper_1m --- 0\n",
            "cnt_cred_h_oper_1m --- 95210\n",
            "cnt_days_cred_h_oper_1m --- 95210\n",
            "sum_a_oper_3m --- 0\n",
            "cnt_a_oper_3m --- 79567\n",
            "sum_b_oper_3m --- 0\n",
            "cnt_b_oper_3m --- 79567\n",
            "sum_c_oper_3m --- 0\n",
            "cnt_c_oper_3m --- 79567\n",
            "sum_deb_d_oper_3m --- 0\n",
            "cnt_deb_d_oper_3m --- 79567\n",
            "sum_cred_d_oper_3m --- 0\n",
            "cnt_cred_d_oper_3m --- 79567\n",
            "sum_deb_e_oper_3m --- 0\n",
            "cnt_deb_e_oper_3m --- 79567\n",
            "cnt_days_deb_e_oper_3m --- 79567\n",
            "sum_cred_e_oper_3m --- 0\n",
            "cnt_cred_e_oper_3m --- 79567\n",
            "cnt_days_cred_e_oper_3m --- 79567\n",
            "sum_deb_f_oper_3m --- 0\n",
            "cnt_deb_f_oper_3m --- 79567\n",
            "cnt_days_deb_f_oper_3m --- 79567\n",
            "sum_cred_f_oper_3m --- 0\n",
            "cnt_cred_f_oper_3m --- 79567\n",
            "cnt_days_cred_f_oper_3m --- 79567\n",
            "sum_deb_g_oper_3m --- 0\n",
            "cnt_deb_g_oper_3m --- 79567\n",
            "cnt_days_deb_g_oper_3m --- 79567\n",
            "sum_cred_g_oper_3m --- 0\n",
            "cnt_cred_g_oper_3m --- 79567\n",
            "cnt_days_cred_g_oper_3m --- 79567\n",
            "sum_deb_h_oper_3m --- 0\n",
            "cnt_deb_h_oper_3m --- 79567\n",
            "cnt_days_deb_h_oper_3m --- 79567\n",
            "sum_cred_h_oper_3m --- 0\n",
            "cnt_cred_h_oper_3m --- 79567\n",
            "cnt_days_cred_h_oper_3m --- 79567\n",
            "start_cluster --- 100000\n"
          ]
        }
      ],
      "source": [
        "for x,y in zip(test_df.columns, test_df.isna().sum()):\n",
        "    print(x, \"---\", y)"
      ]
    },
    {
      "cell_type": "markdown",
      "id": "50RNyCgPtl6n",
      "metadata": {
        "id": "50RNyCgPtl6n"
      },
      "source": [
        "Создаем выборки для валидации и обучения"
      ]
    },
    {
      "cell_type": "code",
      "execution_count": 48,
      "id": "f0777d39",
      "metadata": {},
      "outputs": [],
      "source": [
        "to_drop_cols = [\n",
        "    \"date\",\n",
        "    'cnt_a_oper_1m', \"cnt_b_oper_1m\", 'cnt_c_oper_1m', 'cnt_deb_d_oper_1m','cnt_cred_d_oper_1m','cnt_deb_e_oper_1m','cnt_days_deb_e_oper_1m','cnt_cred_e_oper_1m','cnt_days_cred_e_oper_1m',\n",
        "    'cnt_deb_f_oper_1m','cnt_days_deb_f_oper_1m','cnt_cred_f_oper_1m','cnt_days_cred_f_oper_1m','cnt_deb_g_oper_1m',\n",
        "    'cnt_days_deb_g_oper_1m','cnt_cred_g_oper_1m','cnt_days_cred_g_oper_1m','cnt_deb_h_oper_1m','cnt_days_deb_h_oper_1m','cnt_cred_h_oper_1m','cnt_days_cred_h_oper_1m',\n",
        "    'cnt_days_cred_h_oper_3m','cnt_cred_h_oper_3m','cnt_days_deb_h_oper_3m','cnt_deb_h_oper_3m','cnt_days_cred_g_oper_3m','cnt_cred_g_oper_3m','cnt_days_deb_g_oper_3m','cnt_deb_g_oper_3m','cnt_days_cred_f_oper_3m','cnt_cred_f_oper_3m','cnt_days_deb_f_oper_3m','cnt_deb_f_oper_3m','cnt_days_cred_e_oper_3m','cnt_cred_e_oper_3m','cnt_days_deb_e_oper_3m','cnt_deb_e_oper_3m','cnt_cred_d_oper_3m','cnt_deb_d_oper_3m','cnt_c_oper_3m','cnt_b_oper_3m','cnt_a_oper_3m',\n",
        "\n",
        "    'sum_of_paym_2m', 'sum_of_paym_6m', 'sum_of_paym_1y',\n",
        "\n",
        "    'balance_amt_max','balance_amt_min','balance_amt_day_avg','index_city_code',\n",
        "\n",
        "    'ogrn_days_end_month', 'ogrn_days_end_quarter','ogrn_month','ogrn_year','max_founderpres','min_founderpres','ogrn_exist_months'\n",
        "]\n",
        "to_drop_cols.append(\"id\")"
      ]
    },
    {
      "cell_type": "code",
      "execution_count": 151,
      "id": "2c0edf39-d716-48ca-a66c-936871ee5918",
      "metadata": {
        "execution": {
          "iopub.execute_input": "2024-02-14T23:09:54.944960Z",
          "iopub.status.busy": "2024-02-14T23:09:54.944681Z",
          "iopub.status.idle": "2024-02-14T23:09:55.555948Z",
          "shell.execute_reply": "2024-02-14T23:09:55.554535Z",
          "shell.execute_reply.started": "2024-02-14T23:09:54.944939Z"
        },
        "id": "2c0edf39-d716-48ca-a66c-936871ee5918",
        "tags": []
      },
      "outputs": [],
      "source": [
        "raw_X = train_df.drop(to_drop_cols, axis=1)\n",
        "\n",
        "raw_X['balance_amt_avg'] = raw_X['balance_amt_avg'].fillna(raw_X['balance_amt_avg'].mean())\n",
        "raw_X['channel_code'] = raw_X['channel_code'].fillna('channel_code_8')\n",
        "raw_X['city']= raw_X['city'].fillna('city_0')\n",
        "raw_X['city_type']= raw_X['city_type'].fillna('city_type_0')\n",
        "raw_X['ft_registration_date'] = raw_X['ft_registration_date'].fillna(0.407456)\n",
        "raw_X['okved']= raw_X['okved'].fillna('okved_5')\n",
        "raw_X['segment']= raw_X['segment'].fillna('segment_3')\n",
        "\n",
        "y = raw_X[\"end_cluster\"]\n",
        "raw_X = raw_X.drop(['end_cluster'],axis=1)\n",
        "\n",
        "x_train, x_val, y_train, y_val = train_test_split(raw_X, y,\n",
        "                                                  test_size=0.2,\n",
        "                                                  random_state=42)\n"
      ]
    },
    {
      "cell_type": "code",
      "execution_count": 150,
      "id": "d198fbd3",
      "metadata": {},
      "outputs": [
        {
          "data": {
            "text/plain": [
              "[1, 2, 3, 33, 5, 6]"
            ]
          },
          "execution_count": 150,
          "metadata": {},
          "output_type": "execute_result"
        }
      ],
      "source": [
        "for i, col in enumerate(cat_cols):\n",
        "    for j, col1 in enumerate(x_train.columns):\n",
        "        if col == col1:\n",
        "            cat_cols_num.append(j)\n",
        "cat_cols_num = list(set(sorted(cat_cols_num)))\n",
        "cat_cols_num"
      ]
    },
    {
      "cell_type": "code",
      "execution_count": 191,
      "id": "83d8117c",
      "metadata": {},
      "outputs": [
        {
          "name": "stdout",
          "output_type": "stream",
          "text": [
            "0:\tlearn: 2.0608403\ttest: 2.0560844\tbest: 2.0560844 (0)\ttotal: 7.82s\tremaining: 1m 10s\n",
            "1:\tlearn: 1.8082862\ttest: 1.8044647\tbest: 1.8044647 (1)\ttotal: 15.1s\tremaining: 1m\n",
            "2:\tlearn: 1.6437051\ttest: 1.6396733\tbest: 1.6396733 (2)\ttotal: 22.7s\tremaining: 53s\n",
            "3:\tlearn: 1.5212214\ttest: 1.5177716\tbest: 1.5177716 (3)\ttotal: 30.2s\tremaining: 45.3s\n",
            "4:\tlearn: 1.4255747\ttest: 1.4228625\tbest: 1.4228625 (4)\ttotal: 37.5s\tremaining: 37.5s\n",
            "5:\tlearn: 1.3490643\ttest: 1.3468817\tbest: 1.3468817 (5)\ttotal: 44.8s\tremaining: 29.8s\n",
            "6:\tlearn: 1.2869704\ttest: 1.2854725\tbest: 1.2854725 (6)\ttotal: 52s\tremaining: 22.3s\n",
            "7:\tlearn: 1.2354968\ttest: 1.2343920\tbest: 1.2343920 (7)\ttotal: 59.6s\tremaining: 14.9s\n",
            "8:\tlearn: 1.1919397\ttest: 1.1913817\tbest: 1.1913817 (8)\ttotal: 1m 7s\tremaining: 7.49s\n",
            "9:\tlearn: 1.1538471\ttest: 1.1537432\tbest: 1.1537432 (9)\ttotal: 1m 15s\tremaining: 0us\n",
            "\n",
            "bestTest = 1.153743193\n",
            "bestIteration = 9\n",
            "\n",
            "proba =  [[0.02449172 0.54051907 0.02029303 ... 0.01965308 0.15780968 0.01930744]\n",
            " [0.04223291 0.41032516 0.02044565 ... 0.01977557 0.22521928 0.01947039]\n",
            " [0.11367174 0.02994915 0.02359277 ... 0.03591521 0.06349332 0.01893483]\n",
            " ...\n",
            " [0.02808479 0.04080653 0.03170722 ... 0.01989189 0.62304722 0.01820218]\n",
            " [0.02586745 0.05539367 0.02761502 ... 0.0198947  0.61810143 0.01868878]\n",
            " [0.02860855 0.12063161 0.02420652 ... 0.02017373 0.55295767 0.019946  ]]\n"
          ]
        }
      ],
      "source": [
        "model = CatBoostClassifier(iterations=10,\n",
        "                           depth=8,\n",
        "                           learning_rate=0.1,\n",
        "                        #    loss_function='AUC',\n",
        "                           custom_loss=['AUC', 'MultiClass'],\n",
        "                           verbose=True,\n",
        "                           random_state=1337)\n",
        "# train the model\n",
        "model.fit(x_train, y_train,\n",
        "        cat_features=cat_cols_num,\n",
        "        eval_set=(x_val, y_val),\n",
        "        verbose=True,\n",
        ")\n",
        "# make the prediction using the resulting model\n",
        "# preds_class = model.predict(x_val)\n",
        "preds_proba = model.predict_proba(x_val)\n",
        "# print(\"class = \", preds_class)\n",
        "print(\"proba = \", preds_proba)"
      ]
    },
    {
      "cell_type": "markdown",
      "id": "ff6fdc9b",
      "metadata": {},
      "source": [
        "#### Eval"
      ]
    },
    {
      "cell_type": "markdown",
      "id": "in4jAC8SIbIk",
      "metadata": {
        "id": "in4jAC8SIbIk"
      },
      "source": [
        "Зададим функцию для взвешенной метрики roc auc"
      ]
    },
    {
      "cell_type": "code",
      "execution_count": 192,
      "id": "WxsjOsocI0Kq",
      "metadata": {
        "id": "WxsjOsocI0Kq"
      },
      "outputs": [],
      "source": [
        "def weighted_roc_auc(y_true, y_pred, labels, weights_dict):\n",
        "    unnorm_weights = np.array([weights_dict[label] for label in labels])\n",
        "    weights = unnorm_weights / unnorm_weights.sum()\n",
        "    classes_roc_auc = roc_auc_score(y_true, y_pred, labels=labels,\n",
        "                                    multi_class=\"ovr\", average=None)\n",
        "    return sum(weights * classes_roc_auc)"
      ]
    },
    {
      "cell_type": "code",
      "execution_count": 155,
      "id": "dNp4RlkbJmqE",
      "metadata": {
        "id": "dNp4RlkbJmqE"
      },
      "outputs": [],
      "source": [
        "cluster_weights = pd.read_excel(\"cluster_weights.xlsx\").set_index(\"cluster\")\n",
        "weights_dict = cluster_weights[\"unnorm_weight\"].to_dict()"
      ]
    },
    {
      "cell_type": "code",
      "execution_count": 193,
      "id": "BAGzrwjowH8q",
      "metadata": {
        "colab": {
          "base_uri": "https://localhost:8080/"
        },
        "id": "BAGzrwjowH8q",
        "outputId": "214ab219-a97a-4def-9ba7-9be171908749"
      },
      "outputs": [
        {
          "data": {
            "text/plain": [
              "0.8589139198433902"
            ]
          },
          "execution_count": 193,
          "metadata": {},
          "output_type": "execute_result"
        }
      ],
      "source": [
        "y_pred_proba = model.predict_proba(x_val)\n",
        "weighted_roc_auc(y_val, y_pred_proba, model.classes_, weights_dict)"
      ]
    },
    {
      "cell_type": "markdown",
      "id": "baba776a",
      "metadata": {},
      "source": [
        "#### Sub"
      ]
    },
    {
      "cell_type": "code",
      "execution_count": 171,
      "id": "c11d2697",
      "metadata": {},
      "outputs": [],
      "source": [
        "sample_submission_df = pd.read_csv(\"sample_submission.csv\")\n",
        "\n",
        "test_df[\"start_cluster\"] = train_df[\"start_cluster\"].mode()[0]\n",
        "\n",
        "test_df['balance_amt_avg'] = test_df['balance_amt_avg'].fillna(test_df['balance_amt_avg'].mean())\n",
        "test_df['channel_code'] = test_df['channel_code'].fillna('channel_code_8')\n",
        "test_df['city']= test_df['city'].fillna('city_0')\n",
        "test_df['city_type']= test_df['city_type'].fillna('city_type_0')\n",
        "test_df['ft_registration_date'] = test_df['ft_registration_date'].fillna(0.407456)\n",
        "test_df['okved']= test_df['okved'].fillna('okved_5')\n",
        "test_df['segment']= test_df['segment'].fillna('segment_3')\n",
        "\n",
        "last_m_test_df = test_df[test_df[\"date\"] == \"month_6\"]\n",
        "last_m_test_df = last_m_test_df.drop(to_drop_cols, axis=1)"
      ]
    },
    {
      "cell_type": "code",
      "execution_count": 186,
      "id": "5585fd22-3b4f-44f5-a673-777fec4fedc5",
      "metadata": {
        "execution": {
          "iopub.execute_input": "2024-02-14T23:11:52.813319Z",
          "iopub.status.busy": "2024-02-14T23:11:52.813067Z",
          "iopub.status.idle": "2024-02-14T23:12:01.288281Z",
          "shell.execute_reply": "2024-02-14T23:12:01.287566Z",
          "shell.execute_reply.started": "2024-02-14T23:11:52.813300Z"
        },
        "id": "5585fd22-3b4f-44f5-a673-777fec4fedc5",
        "tags": []
      },
      "outputs": [],
      "source": [
        "test_pred_proba = model.predict_proba(last_m_test_df)\n",
        "test_pred_proba_df = pd.DataFrame(test_pred_proba, columns=model.classes_)\n",
        "sorted_classes = test_pred_proba_df.columns.to_list()\n",
        "test_pred_proba_df = test_pred_proba_df[sorted_classes]"
      ]
    },
    {
      "cell_type": "code",
      "execution_count": 188,
      "id": "a6fbe390-7b56-45a9-8e5b-ab43f9bb7dfc",
      "metadata": {
        "execution": {
          "iopub.execute_input": "2024-02-14T23:12:01.294283Z",
          "iopub.status.busy": "2024-02-14T23:12:01.293888Z",
          "iopub.status.idle": "2024-02-14T23:12:01.382141Z",
          "shell.execute_reply": "2024-02-14T23:12:01.381647Z",
          "shell.execute_reply.started": "2024-02-14T23:12:01.294266Z"
        },
        "id": "a6fbe390-7b56-45a9-8e5b-ab43f9bb7dfc",
        "tags": []
      },
      "outputs": [],
      "source": [
        "test_pred_proba_df['id'] = test_df['id']\n",
        "\n",
        "sample_submission_df[sorted_classes] = test_pred_proba_df\n",
        "sample_submission_df.to_csv(\"sub.csv\", index=False)"
      ]
    }
  ],
  "metadata": {
    "colab": {
      "provenance": []
    },
    "kernelspec": {
      "display_name": "python3",
      "language": "python",
      "name": "python3"
    },
    "language_info": {
      "codemirror_mode": {
        "name": "ipython",
        "version": 3
      },
      "file_extension": ".py",
      "mimetype": "text/x-python",
      "name": "python",
      "nbconvert_exporter": "python",
      "pygments_lexer": "ipython3",
      "version": "3.11.7"
    }
  },
  "nbformat": 4,
  "nbformat_minor": 5
}
