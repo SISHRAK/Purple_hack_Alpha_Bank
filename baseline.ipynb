{
 "cells": [
  {
   "cell_type": "code",
   "execution_count": 1,
   "id": "e0ddb399-18f4-4051-86c0-39f1c623eef5",
   "metadata": {
    "execution": {
     "iopub.execute_input": "2024-02-15T11:34:39.109032Z",
     "iopub.status.busy": "2024-02-15T11:34:39.108624Z",
     "iopub.status.idle": "2024-02-15T11:34:39.955360Z",
     "shell.execute_reply": "2024-02-15T11:34:39.954584Z",
     "shell.execute_reply.started": "2024-02-15T11:34:39.109007Z"
    },
    "id": "e0ddb399-18f4-4051-86c0-39f1c623eef5",
    "tags": [],
    "ExecuteTime": {
     "end_time": "2024-03-11T08:53:40.663673Z",
     "start_time": "2024-03-11T08:53:38.133280Z"
    }
   },
   "outputs": [],
   "source": [
    "import numpy as np\n",
    "import pandas as pd\n",
    "from sklearn.metrics import roc_auc_score\n",
    "from sklearn.model_selection import train_test_split\n",
    "from catboost import CatBoostClassifier"
   ]
  },
  {
   "cell_type": "code",
   "execution_count": 3,
   "id": "32c8b1b0-f95e-4cb5-bbc1-c0edb76568c1",
   "metadata": {
    "execution": {
     "iopub.execute_input": "2024-02-15T11:34:44.750723Z",
     "iopub.status.busy": "2024-02-15T11:34:44.750145Z",
     "iopub.status.idle": "2024-02-15T11:34:46.098228Z",
     "shell.execute_reply": "2024-02-15T11:34:46.097494Z",
     "shell.execute_reply.started": "2024-02-15T11:34:44.750694Z"
    },
    "id": "32c8b1b0-f95e-4cb5-bbc1-c0edb76568c1",
    "tags": [],
    "ExecuteTime": {
     "end_time": "2024-03-11T08:53:51.958071Z",
     "start_time": "2024-03-11T08:53:50.977172Z"
    }
   },
   "outputs": [],
   "source": [
    "train_df = pd.read_parquet(\"train_data.pqt\")\n",
    "test_df = pd.read_parquet(\"test_data.pqt\")"
   ]
  },
  {
   "cell_type": "code",
   "execution_count": null,
   "id": "f0d621d0",
   "metadata": {
    "ExecuteTime": {
     "end_time": "2024-03-11T08:53:40.940695Z",
     "start_time": "2024-03-11T08:53:40.940144Z"
    }
   },
   "outputs": [],
   "source": [
    "# y_train.value_counts().plot(kind='bar')"
   ]
  },
  {
   "cell_type": "markdown",
   "id": "163e6cc6",
   "metadata": {},
   "source": [
    "#### target class - \"end_cluster\" (df[-1])"
   ]
  },
  {
   "cell_type": "code",
   "execution_count": 4,
   "id": "6e2458e8",
   "metadata": {
    "ExecuteTime": {
     "end_time": "2024-03-11T08:53:54.947185Z",
     "start_time": "2024-03-11T08:53:54.943205Z"
    }
   },
   "outputs": [],
   "source": [
    "cat_cols = [\n",
    "    \"channel_code\", \"city\", \"city_type\",\n",
    "    \"okved\", \"segment\", \"start_cluster\",\n",
    "    \"index_city_code\", \"ogrn_month\", \"ogrn_year\",\n",
    "]\n",
    "\n",
    "cat_cols_num = []"
   ]
  },
  {
   "cell_type": "code",
   "execution_count": 5,
   "id": "3daf55c3",
   "metadata": {
    "ExecuteTime": {
     "end_time": "2024-03-11T08:53:55.973041Z",
     "start_time": "2024-03-11T08:53:55.883031Z"
    }
   },
   "outputs": [
    {
     "name": "stdout",
     "output_type": "stream",
     "text": [
      "id --- 0\n",
      "date --- 0\n",
      "balance_amt_avg --- 29483\n",
      "balance_amt_max --- 29483\n",
      "balance_amt_min --- 29483\n",
      "balance_amt_day_avg --- 29483\n",
      "channel_code --- 20028\n",
      "city --- 60612\n",
      "city_type --- 60992\n",
      "index_city_code --- 156461\n",
      "ogrn_days_end_month --- 14278\n",
      "ogrn_days_end_quarter --- 14278\n",
      "ogrn_month --- 14278\n",
      "ogrn_year --- 14278\n",
      "ft_registration_date --- 14838\n",
      "max_founderpres --- 161192\n",
      "min_founderpres --- 161192\n",
      "ogrn_exist_months --- 14278\n",
      "okved --- 14479\n",
      "segment --- 14020\n",
      "sum_of_paym_2m --- 73461\n",
      "sum_of_paym_6m --- 73461\n",
      "sum_of_paym_1y --- 73461\n",
      "sum_a_oper_1m --- 0\n",
      "cnt_a_oper_1m --- 95210\n",
      "sum_b_oper_1m --- 0\n",
      "cnt_b_oper_1m --- 95210\n",
      "sum_c_oper_1m --- 0\n",
      "cnt_c_oper_1m --- 95210\n",
      "sum_deb_d_oper_1m --- 0\n",
      "cnt_deb_d_oper_1m --- 95210\n",
      "sum_cred_d_oper_1m --- 0\n",
      "cnt_cred_d_oper_1m --- 95210\n",
      "sum_deb_e_oper_1m --- 0\n",
      "cnt_deb_e_oper_1m --- 95210\n",
      "cnt_days_deb_e_oper_1m --- 95210\n",
      "sum_cred_e_oper_1m --- 0\n",
      "cnt_cred_e_oper_1m --- 95210\n",
      "cnt_days_cred_e_oper_1m --- 95210\n",
      "sum_deb_f_oper_1m --- 0\n",
      "cnt_deb_f_oper_1m --- 95210\n",
      "cnt_days_deb_f_oper_1m --- 95210\n",
      "sum_cred_f_oper_1m --- 0\n",
      "cnt_cred_f_oper_1m --- 95210\n",
      "cnt_days_cred_f_oper_1m --- 95210\n",
      "sum_deb_g_oper_1m --- 0\n",
      "cnt_deb_g_oper_1m --- 95210\n",
      "cnt_days_deb_g_oper_1m --- 95210\n",
      "sum_cred_g_oper_1m --- 0\n",
      "cnt_cred_g_oper_1m --- 95210\n",
      "cnt_days_cred_g_oper_1m --- 95210\n",
      "sum_deb_h_oper_1m --- 0\n",
      "cnt_deb_h_oper_1m --- 95210\n",
      "cnt_days_deb_h_oper_1m --- 95210\n",
      "sum_cred_h_oper_1m --- 0\n",
      "cnt_cred_h_oper_1m --- 95210\n",
      "cnt_days_cred_h_oper_1m --- 95210\n",
      "sum_a_oper_3m --- 0\n",
      "cnt_a_oper_3m --- 79567\n",
      "sum_b_oper_3m --- 0\n",
      "cnt_b_oper_3m --- 79567\n",
      "sum_c_oper_3m --- 0\n",
      "cnt_c_oper_3m --- 79567\n",
      "sum_deb_d_oper_3m --- 0\n",
      "cnt_deb_d_oper_3m --- 79567\n",
      "sum_cred_d_oper_3m --- 0\n",
      "cnt_cred_d_oper_3m --- 79567\n",
      "sum_deb_e_oper_3m --- 0\n",
      "cnt_deb_e_oper_3m --- 79567\n",
      "cnt_days_deb_e_oper_3m --- 79567\n",
      "sum_cred_e_oper_3m --- 0\n",
      "cnt_cred_e_oper_3m --- 79567\n",
      "cnt_days_cred_e_oper_3m --- 79567\n",
      "sum_deb_f_oper_3m --- 0\n",
      "cnt_deb_f_oper_3m --- 79567\n",
      "cnt_days_deb_f_oper_3m --- 79567\n",
      "sum_cred_f_oper_3m --- 0\n",
      "cnt_cred_f_oper_3m --- 79567\n",
      "cnt_days_cred_f_oper_3m --- 79567\n",
      "sum_deb_g_oper_3m --- 0\n",
      "cnt_deb_g_oper_3m --- 79567\n",
      "cnt_days_deb_g_oper_3m --- 79567\n",
      "sum_cred_g_oper_3m --- 0\n",
      "cnt_cred_g_oper_3m --- 79567\n",
      "cnt_days_cred_g_oper_3m --- 79567\n",
      "sum_deb_h_oper_3m --- 0\n",
      "cnt_deb_h_oper_3m --- 79567\n",
      "cnt_days_deb_h_oper_3m --- 79567\n",
      "sum_cred_h_oper_3m --- 0\n",
      "cnt_cred_h_oper_3m --- 79567\n",
      "cnt_days_cred_h_oper_3m --- 79567\n",
      "start_cluster --- 100000\n"
     ]
    }
   ],
   "source": [
    "for x,y in zip(test_df.columns, test_df.isna().sum()):\n",
    "    print(x, \"---\", y)"
   ]
  },
  {
   "cell_type": "markdown",
   "id": "50RNyCgPtl6n",
   "metadata": {
    "id": "50RNyCgPtl6n"
   },
   "source": [
    "Создаем выборки для валидации и обучения"
   ]
  },
  {
   "cell_type": "code",
   "execution_count": 27,
   "id": "f0777d39",
   "metadata": {
    "ExecuteTime": {
     "end_time": "2024-03-11T09:05:45.165325Z",
     "start_time": "2024-03-11T09:05:45.163343Z"
    }
   },
   "outputs": [],
   "source": [
    "to_drop_cols = [\n",
    "    \"date\",\n",
    "    'cnt_a_oper_1m', \"cnt_b_oper_1m\", 'cnt_c_oper_1m', 'cnt_deb_d_oper_1m','cnt_cred_d_oper_1m','cnt_deb_e_oper_1m','cnt_days_deb_e_oper_1m','cnt_cred_e_oper_1m','cnt_days_cred_e_oper_1m',\n",
    "    'cnt_deb_f_oper_1m','cnt_days_deb_f_oper_1m','cnt_cred_f_oper_1m','cnt_days_cred_f_oper_1m','cnt_deb_g_oper_1m',\n",
    "    'cnt_days_deb_g_oper_1m','cnt_cred_g_oper_1m','cnt_days_cred_g_oper_1m','cnt_deb_h_oper_1m','cnt_days_deb_h_oper_1m','cnt_cred_h_oper_1m','cnt_days_cred_h_oper_1m',\n",
    "    'cnt_days_cred_h_oper_3m','cnt_cred_h_oper_3m','cnt_days_deb_h_oper_3m','cnt_deb_h_oper_3m','cnt_days_cred_g_oper_3m','cnt_cred_g_oper_3m','cnt_days_deb_g_oper_3m','cnt_deb_g_oper_3m','cnt_days_cred_f_oper_3m','cnt_cred_f_oper_3m','cnt_days_deb_f_oper_3m','cnt_deb_f_oper_3m','cnt_days_cred_e_oper_3m','cnt_cred_e_oper_3m','cnt_days_deb_e_oper_3m','cnt_deb_e_oper_3m','cnt_cred_d_oper_3m','cnt_deb_d_oper_3m','cnt_c_oper_3m','cnt_b_oper_3m','cnt_a_oper_3m',\n",
    "\n",
    "    'sum_of_paym_2m', 'sum_of_paym_6m', 'sum_of_paym_1y',\n",
    "\n",
    "    'balance_amt_max','balance_amt_min','balance_amt_day_avg','index_city_code',\n",
    "\n",
    "    'ogrn_days_end_month', 'ogrn_days_end_quarter','ogrn_month','ogrn_year','max_founderpres','min_founderpres','ogrn_exist_months'\n",
    "]\n",
    "to_drop_cols.append(\"id\")"
   ]
  },
  {
   "cell_type": "code",
   "execution_count": 28,
   "id": "2c0edf39-d716-48ca-a66c-936871ee5918",
   "metadata": {
    "execution": {
     "iopub.execute_input": "2024-02-14T23:09:54.944960Z",
     "iopub.status.busy": "2024-02-14T23:09:54.944681Z",
     "iopub.status.idle": "2024-02-14T23:09:55.555948Z",
     "shell.execute_reply": "2024-02-14T23:09:55.554535Z",
     "shell.execute_reply.started": "2024-02-14T23:09:54.944939Z"
    },
    "id": "2c0edf39-d716-48ca-a66c-936871ee5918",
    "tags": [],
    "ExecuteTime": {
     "end_time": "2024-03-11T09:05:47.283239Z",
     "start_time": "2024-03-11T09:05:46.371589Z"
    }
   },
   "outputs": [],
   "source": [
    "raw_X = train_df.drop(to_drop_cols, axis=1)\n",
    "\n",
    "raw_X['balance_amt_avg'] = raw_X['balance_amt_avg'].fillna(raw_X['balance_amt_avg'].mean())\n",
    "raw_X['channel_code'] = raw_X['channel_code'].fillna('channel_code_8')\n",
    "raw_X['city']= raw_X['city'].fillna('city_0')\n",
    "raw_X['city_type']= raw_X['city_type'].fillna('city_type_0')\n",
    "raw_X['ft_registration_date'] = raw_X['ft_registration_date'].fillna(0.407456)\n",
    "raw_X['okved']= raw_X['okved'].fillna('okved_5')\n",
    "raw_X['segment']= raw_X['segment'].fillna('segment_3')\n",
    "\n",
    "y = raw_X[\"end_cluster\"]\n",
    "raw_X = raw_X.drop(['end_cluster'],axis=1)\n",
    "\n",
    "x_train, x_val, y_train, y_val = train_test_split(raw_X, y,\n",
    "                                                  test_size=0.2,\n",
    "                                                  random_state=42)\n"
   ]
  },
  {
   "cell_type": "code",
   "execution_count": 29,
   "id": "d198fbd3",
   "metadata": {
    "ExecuteTime": {
     "end_time": "2024-03-11T09:05:48.015015Z",
     "start_time": "2024-03-11T09:05:47.983301Z"
    }
   },
   "outputs": [
    {
     "data": {
      "text/plain": "[1, 2, 3, 33, 5, 6]"
     },
     "execution_count": 29,
     "metadata": {},
     "output_type": "execute_result"
    }
   ],
   "source": [
    "for i, col in enumerate(cat_cols):\n",
    "    for j, col1 in enumerate(x_train.columns):\n",
    "        if col == col1:\n",
    "            cat_cols_num.append(j)\n",
    "cat_cols_num = list(set(sorted(cat_cols_num)))\n",
    "cat_cols_num"
   ]
  },
  {
   "cell_type": "code",
   "execution_count": 15,
   "id": "83d8117c",
   "metadata": {
    "ExecuteTime": {
     "end_time": "2024-03-11T09:01:13.953470Z",
     "start_time": "2024-03-11T08:57:51.272744Z"
    }
   },
   "outputs": [
    {
     "name": "stdout",
     "output_type": "stream",
     "text": [
      "0:\tlearn: 2.0658283\ttest: 2.0643786\tbest: 2.0643786 (0)\ttotal: 15.4s\tremaining: 4m 52s\n",
      "1:\tlearn: 1.8136090\ttest: 1.8119959\tbest: 1.8119959 (1)\ttotal: 28.3s\tremaining: 4m 14s\n",
      "2:\tlearn: 1.6472885\ttest: 1.6452767\tbest: 1.6452767 (2)\ttotal: 38.1s\tremaining: 3m 36s\n",
      "3:\tlearn: 1.5240514\ttest: 1.5220126\tbest: 1.5220126 (3)\ttotal: 46.5s\tremaining: 3m 5s\n",
      "4:\tlearn: 1.4296771\ttest: 1.4276396\tbest: 1.4276396 (4)\ttotal: 54.4s\tremaining: 2m 43s\n",
      "5:\tlearn: 1.3523349\ttest: 1.3508182\tbest: 1.3508182 (5)\ttotal: 1m 2s\tremaining: 2m 26s\n",
      "6:\tlearn: 1.2886374\ttest: 1.2876006\tbest: 1.2876006 (6)\ttotal: 1m 10s\tremaining: 2m 10s\n",
      "7:\tlearn: 1.2362364\ttest: 1.2355897\tbest: 1.2355897 (7)\ttotal: 1m 18s\tremaining: 1m 57s\n",
      "8:\tlearn: 1.1929771\ttest: 1.1926653\tbest: 1.1926653 (8)\ttotal: 1m 25s\tremaining: 1m 44s\n",
      "9:\tlearn: 1.1553418\ttest: 1.1554127\tbest: 1.1554127 (9)\ttotal: 1m 37s\tremaining: 1m 37s\n",
      "10:\tlearn: 1.1225904\ttest: 1.1229660\tbest: 1.1229660 (10)\ttotal: 1m 48s\tremaining: 1m 28s\n",
      "11:\tlearn: 1.0942862\ttest: 1.0949346\tbest: 1.0949346 (11)\ttotal: 2m 1s\tremaining: 1m 21s\n",
      "12:\tlearn: 1.0706919\ttest: 1.0717897\tbest: 1.0717897 (12)\ttotal: 2m 15s\tremaining: 1m 12s\n",
      "13:\tlearn: 1.0497509\ttest: 1.0511153\tbest: 1.0511153 (13)\ttotal: 2m 24s\tremaining: 1m 1s\n",
      "14:\tlearn: 1.0304303\ttest: 1.0319653\tbest: 1.0319653 (14)\ttotal: 2m 32s\tremaining: 50.8s\n",
      "15:\tlearn: 1.0133828\ttest: 1.0151274\tbest: 1.0151274 (15)\ttotal: 2m 40s\tremaining: 40.2s\n",
      "16:\tlearn: 0.9980103\ttest: 1.0000399\tbest: 1.0000399 (16)\ttotal: 2m 53s\tremaining: 30.7s\n",
      "17:\tlearn: 0.9853197\ttest: 0.9875403\tbest: 0.9875403 (17)\ttotal: 3m 2s\tremaining: 20.3s\n",
      "18:\tlearn: 0.9737550\ttest: 0.9761557\tbest: 0.9761557 (18)\ttotal: 3m 13s\tremaining: 10.2s\n",
      "19:\tlearn: 0.9632079\ttest: 0.9658590\tbest: 0.9658590 (19)\ttotal: 3m 21s\tremaining: 0us\n",
      "\n",
      "bestTest = 0.9658590323\n",
      "bestIteration = 19\n",
      "\n",
      "proba =  [[0.01468058 0.71151796 0.0082854  ... 0.00758251 0.16702628 0.00690648]\n",
      " [0.03772917 0.52333386 0.00895983 ... 0.00767876 0.28049115 0.00726254]\n",
      " [0.11457707 0.01587334 0.01253765 ... 0.01568503 0.07080147 0.00749597]\n",
      " ...\n",
      " [0.01997272 0.03359152 0.02440334 ... 0.0096216  0.77975949 0.00666257]\n",
      " [0.01569817 0.06272258 0.01810806 ... 0.00801911 0.78169651 0.00700115]\n",
      " [0.02867176 0.17091635 0.0227654  ... 0.01056396 0.60663765 0.00926838]]\n"
     ]
    }
   ],
   "source": [
    "model = CatBoostClassifier(iterations=20,\n",
    "                           depth=8,\n",
    "                           learning_rate=0.1,\n",
    "                        #    loss_function='AUC',\n",
    "                           custom_loss=['AUC', 'MultiClass'],\n",
    "                           verbose=True,\n",
    "                           # random_state=1337,\n",
    "                           random_seed=228)\n",
    "# train the model\n",
    "model.fit(x_train, y_train,\n",
    "        cat_features=cat_cols_num,\n",
    "        eval_set=(x_val, y_val),\n",
    "        verbose=True,\n",
    ")\n",
    "# make the prediction using the resulting model\n",
    "# preds_class = model.predict(x_val)\n",
    "preds_proba = model.predict_proba(x_val)\n",
    "# print(\"class = \", preds_class)\n",
    "print(\"proba = \", preds_proba)"
   ]
  },
  {
   "cell_type": "markdown",
   "id": "ff6fdc9b",
   "metadata": {},
   "source": [
    "#### Eval"
   ]
  },
  {
   "cell_type": "markdown",
   "id": "in4jAC8SIbIk",
   "metadata": {
    "id": "in4jAC8SIbIk"
   },
   "source": [
    "Зададим функцию для взвешенной метрики roc auc"
   ]
  },
  {
   "cell_type": "code",
   "execution_count": 30,
   "id": "WxsjOsocI0Kq",
   "metadata": {
    "id": "WxsjOsocI0Kq",
    "ExecuteTime": {
     "end_time": "2024-03-11T09:05:51.408978Z",
     "start_time": "2024-03-11T09:05:51.395056Z"
    }
   },
   "outputs": [],
   "source": [
    "def weighted_roc_auc(y_true, y_pred, labels, weights_dict):\n",
    "    unnorm_weights = np.array([weights_dict[label] for label in labels])\n",
    "    weights = unnorm_weights / unnorm_weights.sum()\n",
    "    classes_roc_auc = roc_auc_score(y_true, y_pred, labels=labels,\n",
    "                                    multi_class=\"ovr\", average=None)\n",
    "    return sum(weights * classes_roc_auc)"
   ]
  },
  {
   "cell_type": "code",
   "execution_count": 31,
   "id": "dNp4RlkbJmqE",
   "metadata": {
    "id": "dNp4RlkbJmqE",
    "ExecuteTime": {
     "end_time": "2024-03-11T09:05:52.100516Z",
     "start_time": "2024-03-11T09:05:52.089022Z"
    }
   },
   "outputs": [],
   "source": [
    "cluster_weights = pd.read_excel(\"cluster_weights.xlsx\").set_index(\"cluster\")\n",
    "weights_dict = cluster_weights[\"unnorm_weight\"].to_dict()"
   ]
  },
  {
   "cell_type": "code",
   "execution_count": 32,
   "id": "BAGzrwjowH8q",
   "metadata": {
    "colab": {
     "base_uri": "https://localhost:8080/"
    },
    "id": "BAGzrwjowH8q",
    "outputId": "214ab219-a97a-4def-9ba7-9be171908749",
    "ExecuteTime": {
     "end_time": "2024-03-11T09:05:53.741421Z",
     "start_time": "2024-03-11T09:05:52.922097Z"
    }
   },
   "outputs": [
    {
     "data": {
      "text/plain": "0.8755371643607294"
     },
     "execution_count": 32,
     "metadata": {},
     "output_type": "execute_result"
    }
   ],
   "source": [
    "y_pred_proba = model.predict_proba(x_val)\n",
    "weighted_roc_auc(y_val, y_pred_proba, model.classes_, weights_dict)"
   ]
  },
  {
   "cell_type": "markdown",
   "id": "baba776a",
   "metadata": {},
   "source": [
    "#### Sub"
   ]
  },
  {
   "cell_type": "code",
   "execution_count": 33,
   "id": "c11d2697",
   "metadata": {
    "ExecuteTime": {
     "end_time": "2024-03-11T09:05:55.887161Z",
     "start_time": "2024-03-11T09:05:55.618341Z"
    }
   },
   "outputs": [],
   "source": [
    "sample_submission_df = pd.read_csv(\"sample_submission.csv\")\n",
    "\n",
    "test_df[\"start_cluster\"] = train_df[\"start_cluster\"].mode()[0]\n",
    "\n",
    "test_df['balance_amt_avg'] = test_df['balance_amt_avg'].fillna(test_df['balance_amt_avg'].mean())\n",
    "test_df['channel_code'] = test_df['channel_code'].fillna('channel_code_8')\n",
    "test_df['city']= test_df['city'].fillna('city_0')\n",
    "test_df['city_type']= test_df['city_type'].fillna('city_type_0')\n",
    "test_df['ft_registration_date'] = test_df['ft_registration_date'].fillna(0.5)\n",
    "test_df['okved']= test_df['okved'].fillna('okved_5')\n",
    "test_df['segment']= test_df['segment'].fillna('segment_3')\n",
    "\n",
    "last_m_test_df = test_df[test_df[\"date\"] == \"month_6\"]\n",
    "last_m_test_df = last_m_test_df.drop(to_drop_cols, axis=1)"
   ]
  },
  {
   "cell_type": "code",
   "execution_count": 34,
   "id": "5585fd22-3b4f-44f5-a673-777fec4fedc5",
   "metadata": {
    "execution": {
     "iopub.execute_input": "2024-02-14T23:11:52.813319Z",
     "iopub.status.busy": "2024-02-14T23:11:52.813067Z",
     "iopub.status.idle": "2024-02-14T23:12:01.288281Z",
     "shell.execute_reply": "2024-02-14T23:12:01.287566Z",
     "shell.execute_reply.started": "2024-02-14T23:11:52.813300Z"
    },
    "id": "5585fd22-3b4f-44f5-a673-777fec4fedc5",
    "tags": [],
    "ExecuteTime": {
     "end_time": "2024-03-11T09:05:57.282921Z",
     "start_time": "2024-03-11T09:05:57.217787Z"
    }
   },
   "outputs": [],
   "source": [
    "test_pred_proba = model.predict_proba(last_m_test_df)\n",
    "test_pred_proba_df = pd.DataFrame(test_pred_proba, columns=model.classes_)\n",
    "sorted_classes = test_pred_proba_df.columns.to_list()\n",
    "test_pred_proba_df = test_pred_proba_df[sorted_classes]"
   ]
  },
  {
   "cell_type": "code",
   "execution_count": 37,
   "id": "a6fbe390-7b56-45a9-8e5b-ab43f9bb7dfc",
   "metadata": {
    "execution": {
     "iopub.execute_input": "2024-02-14T23:12:01.294283Z",
     "iopub.status.busy": "2024-02-14T23:12:01.293888Z",
     "iopub.status.idle": "2024-02-14T23:12:01.382141Z",
     "shell.execute_reply": "2024-02-14T23:12:01.381647Z",
     "shell.execute_reply.started": "2024-02-14T23:12:01.294266Z"
    },
    "id": "a6fbe390-7b56-45a9-8e5b-ab43f9bb7dfc",
    "tags": [],
    "ExecuteTime": {
     "end_time": "2024-03-11T09:09:33.809951Z",
     "start_time": "2024-03-11T09:09:33.761003Z"
    }
   },
   "outputs": [
    {
     "ename": "ValueError",
     "evalue": "Columns must be same length as key",
     "output_type": "error",
     "traceback": [
      "\u001B[0;31m---------------------------------------------------------------------------\u001B[0m",
      "\u001B[0;31mValueError\u001B[0m                                Traceback (most recent call last)",
      "Cell \u001B[0;32mIn[37], line 3\u001B[0m\n\u001B[1;32m      1\u001B[0m test_pred_proba_df[\u001B[38;5;124m'\u001B[39m\u001B[38;5;124mid\u001B[39m\u001B[38;5;124m'\u001B[39m] \u001B[38;5;241m=\u001B[39m test_df[\u001B[38;5;124m'\u001B[39m\u001B[38;5;124mid\u001B[39m\u001B[38;5;124m'\u001B[39m]\n\u001B[0;32m----> 3\u001B[0m \u001B[43msample_submission_df\u001B[49m\u001B[43m[\u001B[49m\u001B[43msorted_classes\u001B[49m\u001B[43m]\u001B[49m \u001B[38;5;241m=\u001B[39m test_pred_proba_df\n\u001B[1;32m      4\u001B[0m sample_submission_df\u001B[38;5;241m.\u001B[39mto_csv(\u001B[38;5;124m\"\u001B[39m\u001B[38;5;124msub.csv\u001B[39m\u001B[38;5;124m\"\u001B[39m, index\u001B[38;5;241m=\u001B[39m\u001B[38;5;28;01mFalse\u001B[39;00m)\n",
      "File \u001B[0;32m~/PycharmProjects/Purple_hack_Alpha_Bank/.venv/lib/python3.9/site-packages/pandas/core/frame.py:4287\u001B[0m, in \u001B[0;36mDataFrame.__setitem__\u001B[0;34m(self, key, value)\u001B[0m\n\u001B[1;32m   4285\u001B[0m     \u001B[38;5;28mself\u001B[39m\u001B[38;5;241m.\u001B[39m_setitem_frame(key, value)\n\u001B[1;32m   4286\u001B[0m \u001B[38;5;28;01melif\u001B[39;00m \u001B[38;5;28misinstance\u001B[39m(key, (Series, np\u001B[38;5;241m.\u001B[39mndarray, \u001B[38;5;28mlist\u001B[39m, Index)):\n\u001B[0;32m-> 4287\u001B[0m     \u001B[38;5;28;43mself\u001B[39;49m\u001B[38;5;241;43m.\u001B[39;49m\u001B[43m_setitem_array\u001B[49m\u001B[43m(\u001B[49m\u001B[43mkey\u001B[49m\u001B[43m,\u001B[49m\u001B[43m \u001B[49m\u001B[43mvalue\u001B[49m\u001B[43m)\u001B[49m\n\u001B[1;32m   4288\u001B[0m \u001B[38;5;28;01melif\u001B[39;00m \u001B[38;5;28misinstance\u001B[39m(value, DataFrame):\n\u001B[1;32m   4289\u001B[0m     \u001B[38;5;28mself\u001B[39m\u001B[38;5;241m.\u001B[39m_set_item_frame_value(key, value)\n",
      "File \u001B[0;32m~/PycharmProjects/Purple_hack_Alpha_Bank/.venv/lib/python3.9/site-packages/pandas/core/frame.py:4329\u001B[0m, in \u001B[0;36mDataFrame._setitem_array\u001B[0;34m(self, key, value)\u001B[0m\n\u001B[1;32m   4324\u001B[0m \u001B[38;5;28;01melse\u001B[39;00m:\n\u001B[1;32m   4325\u001B[0m     \u001B[38;5;66;03m# Note: unlike self.iloc[:, indexer] = value, this will\u001B[39;00m\n\u001B[1;32m   4326\u001B[0m     \u001B[38;5;66;03m#  never try to overwrite values inplace\u001B[39;00m\n\u001B[1;32m   4328\u001B[0m     \u001B[38;5;28;01mif\u001B[39;00m \u001B[38;5;28misinstance\u001B[39m(value, DataFrame):\n\u001B[0;32m-> 4329\u001B[0m         \u001B[43mcheck_key_length\u001B[49m\u001B[43m(\u001B[49m\u001B[38;5;28;43mself\u001B[39;49m\u001B[38;5;241;43m.\u001B[39;49m\u001B[43mcolumns\u001B[49m\u001B[43m,\u001B[49m\u001B[43m \u001B[49m\u001B[43mkey\u001B[49m\u001B[43m,\u001B[49m\u001B[43m \u001B[49m\u001B[43mvalue\u001B[49m\u001B[43m)\u001B[49m\n\u001B[1;32m   4330\u001B[0m         \u001B[38;5;28;01mfor\u001B[39;00m k1, k2 \u001B[38;5;129;01min\u001B[39;00m \u001B[38;5;28mzip\u001B[39m(key, value\u001B[38;5;241m.\u001B[39mcolumns):\n\u001B[1;32m   4331\u001B[0m             \u001B[38;5;28mself\u001B[39m[k1] \u001B[38;5;241m=\u001B[39m value[k2]\n",
      "File \u001B[0;32m~/PycharmProjects/Purple_hack_Alpha_Bank/.venv/lib/python3.9/site-packages/pandas/core/indexers/utils.py:390\u001B[0m, in \u001B[0;36mcheck_key_length\u001B[0;34m(columns, key, value)\u001B[0m\n\u001B[1;32m    388\u001B[0m \u001B[38;5;28;01mif\u001B[39;00m columns\u001B[38;5;241m.\u001B[39mis_unique:\n\u001B[1;32m    389\u001B[0m     \u001B[38;5;28;01mif\u001B[39;00m \u001B[38;5;28mlen\u001B[39m(value\u001B[38;5;241m.\u001B[39mcolumns) \u001B[38;5;241m!=\u001B[39m \u001B[38;5;28mlen\u001B[39m(key):\n\u001B[0;32m--> 390\u001B[0m         \u001B[38;5;28;01mraise\u001B[39;00m \u001B[38;5;167;01mValueError\u001B[39;00m(\u001B[38;5;124m\"\u001B[39m\u001B[38;5;124mColumns must be same length as key\u001B[39m\u001B[38;5;124m\"\u001B[39m)\n\u001B[1;32m    391\u001B[0m \u001B[38;5;28;01melse\u001B[39;00m:\n\u001B[1;32m    392\u001B[0m     \u001B[38;5;66;03m# Missing keys in columns are represented as -1\u001B[39;00m\n\u001B[1;32m    393\u001B[0m     \u001B[38;5;28;01mif\u001B[39;00m \u001B[38;5;28mlen\u001B[39m(columns\u001B[38;5;241m.\u001B[39mget_indexer_non_unique(key)[\u001B[38;5;241m0\u001B[39m]) \u001B[38;5;241m!=\u001B[39m \u001B[38;5;28mlen\u001B[39m(value\u001B[38;5;241m.\u001B[39mcolumns):\n",
      "\u001B[0;31mValueError\u001B[0m: Columns must be same length as key"
     ]
    }
   ],
   "source": [
    "test_pred_proba_df['id'] = test_df['id']\n",
    "\n",
    "sample_submission_df[sorted_classes] = test_pred_proba_df\n",
    "sample_submission_df.to_csv(\"sub.csv\", index=False)"
   ]
  },
  {
   "cell_type": "code",
   "outputs": [],
   "source": [],
   "metadata": {
    "collapsed": false
   },
   "id": "b60e6dbfa7cabfee"
  }
 ],
 "metadata": {
  "colab": {
   "provenance": []
  },
  "kernelspec": {
   "display_name": "python3",
   "language": "python",
   "name": "python3"
  },
  "language_info": {
   "codemirror_mode": {
    "name": "ipython",
    "version": 3
   },
   "file_extension": ".py",
   "mimetype": "text/x-python",
   "name": "python",
   "nbconvert_exporter": "python",
   "pygments_lexer": "ipython3",
   "version": "3.11.7"
  }
 },
 "nbformat": 4,
 "nbformat_minor": 5
}
